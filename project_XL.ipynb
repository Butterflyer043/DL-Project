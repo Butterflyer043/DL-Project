{
  "nbformat": 4,
  "nbformat_minor": 0,
  "metadata": {
    "colab": {
      "name": "project.ipynb",
      "provenance": [],
      "collapsed_sections": [],
      "toc_visible": true
    },
    "kernelspec": {
      "name": "python3",
      "display_name": "Python 3"
    }
  },
  "cells": [
    {
      "cell_type": "code",
      "metadata": {
        "id": "mYqdEkz2TNAF"
      },
      "source": [
        "# Colab library to upload files to notebook\n",
        "from google.colab import files\n",
        "\n",
        "# Install Kaggle library\n",
        "!pip install -q kaggle"
      ],
      "execution_count": 7,
      "outputs": []
    },
    {
      "cell_type": "code",
      "metadata": {
        "colab": {
          "base_uri": "https://localhost:8080/"
        },
        "id": "S8gzaYF3_I2P",
        "outputId": "110cae9b-dd94-43f9-fdc2-4de31ff0c4d4"
      },
      "source": [
        "!ls\n",
        "!kaggle datasets download -d paramaggarwal/fashion-product-images-small"
      ],
      "execution_count": 8,
      "outputs": [
        {
          "output_type": "stream",
          "text": [
            "fashion-product-images-small.zip  kaggle.json\t sample_data\n",
            "images\t\t\t\t  myntradataset  styles.csv\n",
            "fashion-product-images-small.zip: Skipping, found more recently modified local copy (use --force to force download)\n"
          ],
          "name": "stdout"
        }
      ]
    },
    {
      "cell_type": "code",
      "metadata": {
        "colab": {
          "resources": {
            "http://localhost:8080/nbextensions/google.colab/files.js": {
              "data": "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",
              "ok": true,
              "headers": [
                [
                  "content-type",
                  "application/javascript"
                ]
              ],
              "status": 200,
              "status_text": ""
            }
          },
          "base_uri": "https://localhost:8080/",
          "height": 38
        },
        "id": "ExwoxYobTj2e",
        "outputId": "3959af0a-5074-4967-a413-d6f8140fc9e1"
      },
      "source": [
        "uploaded = files.upload()"
      ],
      "execution_count": 9,
      "outputs": [
        {
          "output_type": "display_data",
          "data": {
            "text/html": [
              "\n",
              "     <input type=\"file\" id=\"files-29d80c5d-e2f3-4050-b99d-bdc3843f274f\" name=\"files[]\" multiple disabled\n",
              "        style=\"border:none\" />\n",
              "     <output id=\"result-29d80c5d-e2f3-4050-b99d-bdc3843f274f\">\n",
              "      Upload widget is only available when the cell has been executed in the\n",
              "      current browser session. Please rerun this cell to enable.\n",
              "      </output>\n",
              "      <script src=\"/nbextensions/google.colab/files.js\"></script> "
            ],
            "text/plain": [
              "<IPython.core.display.HTML object>"
            ]
          },
          "metadata": {
            "tags": []
          }
        }
      ]
    },
    {
      "cell_type": "code",
      "metadata": {
        "colab": {
          "base_uri": "https://localhost:8080/"
        },
        "id": "wN2uYYpZWSLx",
        "outputId": "4e447dfe-67b2-4604-a881-8ee974a241df"
      },
      "source": [
        "!ls -lha kaggle.json"
      ],
      "execution_count": 10,
      "outputs": [
        {
          "output_type": "stream",
          "text": [
            "-rw-r--r-- 1 root root 70 Dec 16 02:33 kaggle.json\n"
          ],
          "name": "stdout"
        }
      ]
    },
    {
      "cell_type": "code",
      "metadata": {
        "colab": {
          "base_uri": "https://localhost:8080/"
        },
        "id": "mtwuQRv1V5ac",
        "outputId": "50ce5d92-7c95-48ed-8201-bdbdf7a50d37"
      },
      "source": [
        "\n",
        "!mkdir -p ~/.kaggle\n",
        "!cp kaggle.json ~/.kaggle/\n",
        "\n",
        "# This permissions change avoids a warning on Kaggle tool startup.\n",
        "!chmod 600 ~/.kaggle/kaggle.json\n",
        "!kaggle datasets download -d paramaggarwal/fashion-product-images-small"
      ],
      "execution_count": 11,
      "outputs": [
        {
          "output_type": "stream",
          "text": [
            "fashion-product-images-small.zip: Skipping, found more recently modified local copy (use --force to force download)\n"
          ],
          "name": "stdout"
        }
      ]
    },
    {
      "cell_type": "code",
      "metadata": {
        "id": "D72vhkZ-WDla",
        "colab": {
          "base_uri": "https://localhost:8080/"
        },
        "outputId": "bf0ecfc3-5edf-45b5-e3fa-299ddc3407c3"
      },
      "source": [
        "!unzip \\*.zip"
      ],
      "execution_count": 12,
      "outputs": [
        {
          "output_type": "stream",
          "text": [
            "Archive:  fashion-product-images-small.zip\n",
            "replace images/10000.jpg? [y]es, [n]o, [A]ll, [N]one, [r]ename: n\n",
            "replace images/10001.jpg? [y]es, [n]o, [A]ll, [N]one, [r]ename: "
          ],
          "name": "stdout"
        }
      ]
    },
    {
      "cell_type": "code",
      "metadata": {
        "id": "4jPbKkU2_BqP"
      },
      "source": [
        "import keras\n",
        "from keras.models import Sequential\n",
        "from keras.layers import Dense, Dropout, Flatten\n",
        "from keras.layers import Conv2D, MaxPooling2D\n",
        "from keras.utils import to_categorical\n",
        "from keras.preprocessing import image\n",
        "import numpy as np\n",
        "import pandas as pd\n",
        "import matplotlib.pyplot as plt\n",
        "from sklearn.model_selection import train_test_split\n",
        "from tqdm import tqdm\n",
        "%matplotlib inline"
      ],
      "execution_count": 13,
      "outputs": []
    },
    {
      "cell_type": "code",
      "metadata": {
        "id": "chW8zt48_JC8"
      },
      "source": [
        "import matplotlib.pyplot as plt\n",
        "from sklearn.model_selection import train_test_split\n",
        "import tensorflow.keras as tfk\n",
        "import tensorflow as tf\n",
        "from keras.models import Sequential\n",
        "from keras.layers import Dense, Dropout, Flatten\n",
        "from keras.layers import Conv2D, MaxPooling2D"
      ],
      "execution_count": 14,
      "outputs": []
    },
    {
      "cell_type": "code",
      "metadata": {
        "colab": {
          "base_uri": "https://localhost:8080/",
          "height": 182
        },
        "id": "n0CkwfTUWqak",
        "outputId": "1badf567-bf86-40f0-8eb7-d6a6b14f262f"
      },
      "source": [
        "import pandas as pd\n",
        "import numpy as np\n",
        "df = pd.read_csv('styles.csv', error_bad_lines=False)\n",
        "df=df.dropna()\n",
        "df.head(2)"
      ],
      "execution_count": 15,
      "outputs": [
        {
          "output_type": "stream",
          "text": [
            "b'Skipping line 6044: expected 10 fields, saw 11\\nSkipping line 6569: expected 10 fields, saw 11\\nSkipping line 7399: expected 10 fields, saw 11\\nSkipping line 7939: expected 10 fields, saw 11\\nSkipping line 9026: expected 10 fields, saw 11\\nSkipping line 10264: expected 10 fields, saw 11\\nSkipping line 10427: expected 10 fields, saw 11\\nSkipping line 10905: expected 10 fields, saw 11\\nSkipping line 11373: expected 10 fields, saw 11\\nSkipping line 11945: expected 10 fields, saw 11\\nSkipping line 14112: expected 10 fields, saw 11\\nSkipping line 14532: expected 10 fields, saw 11\\nSkipping line 15076: expected 10 fields, saw 12\\nSkipping line 29906: expected 10 fields, saw 11\\nSkipping line 31625: expected 10 fields, saw 11\\nSkipping line 33020: expected 10 fields, saw 11\\nSkipping line 35748: expected 10 fields, saw 11\\nSkipping line 35962: expected 10 fields, saw 11\\nSkipping line 37770: expected 10 fields, saw 11\\nSkipping line 38105: expected 10 fields, saw 11\\nSkipping line 38275: expected 10 fields, saw 11\\nSkipping line 38404: expected 10 fields, saw 12\\n'\n"
          ],
          "name": "stderr"
        },
        {
          "output_type": "execute_result",
          "data": {
            "text/html": [
              "<div>\n",
              "<style scoped>\n",
              "    .dataframe tbody tr th:only-of-type {\n",
              "        vertical-align: middle;\n",
              "    }\n",
              "\n",
              "    .dataframe tbody tr th {\n",
              "        vertical-align: top;\n",
              "    }\n",
              "\n",
              "    .dataframe thead th {\n",
              "        text-align: right;\n",
              "    }\n",
              "</style>\n",
              "<table border=\"1\" class=\"dataframe\">\n",
              "  <thead>\n",
              "    <tr style=\"text-align: right;\">\n",
              "      <th></th>\n",
              "      <th>id</th>\n",
              "      <th>gender</th>\n",
              "      <th>masterCategory</th>\n",
              "      <th>subCategory</th>\n",
              "      <th>articleType</th>\n",
              "      <th>baseColour</th>\n",
              "      <th>season</th>\n",
              "      <th>year</th>\n",
              "      <th>usage</th>\n",
              "      <th>productDisplayName</th>\n",
              "    </tr>\n",
              "  </thead>\n",
              "  <tbody>\n",
              "    <tr>\n",
              "      <th>0</th>\n",
              "      <td>15970</td>\n",
              "      <td>Men</td>\n",
              "      <td>Apparel</td>\n",
              "      <td>Topwear</td>\n",
              "      <td>Shirts</td>\n",
              "      <td>Navy Blue</td>\n",
              "      <td>Fall</td>\n",
              "      <td>2011.0</td>\n",
              "      <td>Casual</td>\n",
              "      <td>Turtle Check Men Navy Blue Shirt</td>\n",
              "    </tr>\n",
              "    <tr>\n",
              "      <th>1</th>\n",
              "      <td>39386</td>\n",
              "      <td>Men</td>\n",
              "      <td>Apparel</td>\n",
              "      <td>Bottomwear</td>\n",
              "      <td>Jeans</td>\n",
              "      <td>Blue</td>\n",
              "      <td>Summer</td>\n",
              "      <td>2012.0</td>\n",
              "      <td>Casual</td>\n",
              "      <td>Peter England Men Party Blue Jeans</td>\n",
              "    </tr>\n",
              "  </tbody>\n",
              "</table>\n",
              "</div>"
            ],
            "text/plain": [
              "      id gender  ...   usage                  productDisplayName\n",
              "0  15970    Men  ...  Casual    Turtle Check Men Navy Blue Shirt\n",
              "1  39386    Men  ...  Casual  Peter England Men Party Blue Jeans\n",
              "\n",
              "[2 rows x 10 columns]"
            ]
          },
          "metadata": {
            "tags": []
          },
          "execution_count": 15
        }
      ]
    },
    {
      "cell_type": "code",
      "metadata": {
        "colab": {
          "base_uri": "https://localhost:8080/"
        },
        "id": "MJ2BIsFNkbOm",
        "outputId": "edefb97d-df98-4f55-d290-81fe13cc7467"
      },
      "source": [
        "targets = [ \"Shirts\", \"Watches\", \"Sports Shoes\", \"Tops\", \"Handbags\", \"Heels\", \"Sunglasses\", \"Backpacks\", \"Jeans\", \"Shorts\"]\n",
        "df = df[df['articleType'].isin(targets)]\n",
        "\n",
        "seed=111\n",
        "np.random.seed(seed) \n",
        "large = [\"Shirts\", \"Watches\", \"Sports Shoes\", \"Tops\", \"Handbags\", \"Heels\", \"Sunglasses\"]\n",
        "small = [\"Backpacks\", \"Jeans\", \"Shorts\"]\n",
        "lst = []\n",
        "for t in targets:\n",
        "    temp = df[df['articleType'] == t]\n",
        "    if t in small:\n",
        "        lst.append(temp)\n",
        "    else:\n",
        "        lst.append(temp.sample(n = 1000, random_state = seed))\n",
        "df = pd.concat(lst)\n",
        "df.shape"
      ],
      "execution_count": 16,
      "outputs": [
        {
          "output_type": "execute_result",
          "data": {
            "text/plain": [
              "(8874, 10)"
            ]
          },
          "metadata": {
            "tags": []
          },
          "execution_count": 16
        }
      ]
    },
    {
      "cell_type": "code",
      "metadata": {
        "id": "F6tqWwhlYxyt",
        "colab": {
          "base_uri": "https://localhost:8080/"
        },
        "outputId": "ba8e6886-483d-46e1-a16f-e9c80fb630cf"
      },
      "source": [
        "#df.articleType.unique()\n",
        "df['subCategory'].value_counts()"
      ],
      "execution_count": 202,
      "outputs": [
        {
          "output_type": "execute_result",
          "data": {
            "text/plain": [
              "Shoes                       2000\n",
              "Topwear                     2000\n",
              "Bags                        1722\n",
              "Bottomwear                  1148\n",
              "Eyewear                     1000\n",
              "Watches                     1000\n",
              "Free Gifts                     2\n",
              "Loungewear and Nightwear       2\n",
              "Name: subCategory, dtype: int64"
            ]
          },
          "metadata": {
            "tags": []
          },
          "execution_count": 202
        }
      ]
    },
    {
      "cell_type": "markdown",
      "metadata": {
        "id": "kIxAove_JyjH"
      },
      "source": [
        "#temp"
      ]
    },
    {
      "cell_type": "code",
      "metadata": {
        "colab": {
          "base_uri": "https://localhost:8080/"
        },
        "id": "YMpYg6jYJsZy",
        "outputId": "4e20791e-0ae2-4ac0-eeed-50825c22cbfa"
      },
      "source": [
        "df['usage'].value_counts()"
      ],
      "execution_count": 225,
      "outputs": [
        {
          "output_type": "execute_result",
          "data": {
            "text/plain": [
              "Casual          7204\n",
              "Sports          1299\n",
              "Formal           298\n",
              "Ethnic            41\n",
              "Travel            14\n",
              "Smart Casual      13\n",
              "Party              5\n",
              "Name: usage, dtype: int64"
            ]
          },
          "metadata": {
            "tags": []
          },
          "execution_count": 225
        }
      ]
    },
    {
      "cell_type": "code",
      "metadata": {
        "id": "3iW3RJZxaaP8",
        "colab": {
          "base_uri": "https://localhost:8080/",
          "height": 111
        },
        "outputId": "0f0d5959-01b2-4380-d396-857a876324f4"
      },
      "source": [
        "df.iloc[:,[0,1,2,3,6,8]].head(2)"
      ],
      "execution_count": 203,
      "outputs": [
        {
          "output_type": "execute_result",
          "data": {
            "text/html": [
              "<div>\n",
              "<style scoped>\n",
              "    .dataframe tbody tr th:only-of-type {\n",
              "        vertical-align: middle;\n",
              "    }\n",
              "\n",
              "    .dataframe tbody tr th {\n",
              "        vertical-align: top;\n",
              "    }\n",
              "\n",
              "    .dataframe thead th {\n",
              "        text-align: right;\n",
              "    }\n",
              "</style>\n",
              "<table border=\"1\" class=\"dataframe\">\n",
              "  <thead>\n",
              "    <tr style=\"text-align: right;\">\n",
              "      <th></th>\n",
              "      <th>id</th>\n",
              "      <th>gender</th>\n",
              "      <th>masterCategory</th>\n",
              "      <th>subCategory</th>\n",
              "      <th>season</th>\n",
              "      <th>usage</th>\n",
              "    </tr>\n",
              "  </thead>\n",
              "  <tbody>\n",
              "    <tr>\n",
              "      <th>15691</th>\n",
              "      <td>33547</td>\n",
              "      <td>Men</td>\n",
              "      <td>Apparel</td>\n",
              "      <td>Topwear</td>\n",
              "      <td>Summer</td>\n",
              "      <td>Casual</td>\n",
              "    </tr>\n",
              "    <tr>\n",
              "      <th>18162</th>\n",
              "      <td>33492</td>\n",
              "      <td>Men</td>\n",
              "      <td>Apparel</td>\n",
              "      <td>Topwear</td>\n",
              "      <td>Summer</td>\n",
              "      <td>Casual</td>\n",
              "    </tr>\n",
              "  </tbody>\n",
              "</table>\n",
              "</div>"
            ],
            "text/plain": [
              "          id gender masterCategory subCategory  season   usage\n",
              "15691  33547    Men        Apparel     Topwear  Summer  Casual\n",
              "18162  33492    Men        Apparel     Topwear  Summer  Casual"
            ]
          },
          "metadata": {
            "tags": []
          },
          "execution_count": 203
        }
      ]
    },
    {
      "cell_type": "code",
      "metadata": {
        "id": "mNJ_keKQaQ9G"
      },
      "source": [
        "df_onehot = pd.get_dummies(df.iloc[:,[0,1,2,3,6,8]], columns=['gender', 'masterCategory','subCategory',\"season\",\"usage\"], drop_first=True)\n",
        "#df_onehot = pd.get_dummies(df.iloc[:,[0,1,2,3,4,6,8]], columns=['gender', 'articleType',\"season\",\"usage\"], drop_first=True)\n",
        "\n",
        "df_onehot=df_onehot.reset_index(drop=True)\n",
        "df_onehot = pd.merge(df.iloc[:,[0,1,2,3,6,8]],df_onehot,  how='inner', on='id')\n"
      ],
      "execution_count": 231,
      "outputs": []
    },
    {
      "cell_type": "code",
      "metadata": {
        "colab": {
          "base_uri": "https://localhost:8080/"
        },
        "id": "VM_5uxsiiYC-",
        "outputId": "1205eb73-7c36-4089-add4-95e7d3ae91cd"
      },
      "source": [
        "df_onehot.columns\n",
        "#df_onehot.shape"
      ],
      "execution_count": 228,
      "outputs": [
        {
          "output_type": "execute_result",
          "data": {
            "text/plain": [
              "Index(['id', 'gender', 'masterCategory', 'season', 'usage', 'gender_Girls',\n",
              "       'gender_Men', 'gender_Unisex', 'gender_Women', 'masterCategory_Apparel',\n",
              "       'masterCategory_Footwear', 'masterCategory_Free Items',\n",
              "       'subCategory_Bottomwear', 'subCategory_Eyewear',\n",
              "       'subCategory_Free Gifts', 'subCategory_Loungewear and Nightwear',\n",
              "       'subCategory_Shoes', 'subCategory_Topwear', 'subCategory_Watches',\n",
              "       'season_Spring', 'season_Summer', 'season_Winter', 'usage_Ethnic',\n",
              "       'usage_Formal', 'usage_Party', 'usage_Smart Casual', 'usage_Sports',\n",
              "       'usage_Travel'],\n",
              "      dtype='object')"
            ]
          },
          "metadata": {
            "tags": []
          },
          "execution_count": 228
        }
      ]
    },
    {
      "cell_type": "code",
      "metadata": {
        "colab": {
          "base_uri": "https://localhost:8080/"
        },
        "id": "5157VHJxzO2z",
        "outputId": "8064e52b-40bd-4fd8-85af-00d691df5e04"
      },
      "source": [
        "from keras.preprocessing import image\n",
        "from tqdm import tqdm\n",
        "X=[]\n",
        "Y_id=[]\n",
        "train_image = []\n",
        "for i in tqdm(range(df_onehot.shape[0])):\n",
        "  try:\n",
        "    path = \"myntradataset/images/{}.jpg\".format(df_onehot['id'][i])\n",
        "    img = image.load_img(path,target_size=(80,60))\n",
        "    img = image.img_to_array(img)\n",
        "    img = img/255\n",
        "    train_image.append(img)\n",
        "    Y_id.append(df_onehot['id'][i])\n",
        "  except:\n",
        "    pass\n",
        "\n",
        "X = np.array(train_image)\n"
      ],
      "execution_count": 53,
      "outputs": [
        {
          "output_type": "stream",
          "text": [
            "100%|██████████| 8872/8872 [00:04<00:00, 2113.21it/s]\n"
          ],
          "name": "stderr"
        }
      ]
    },
    {
      "cell_type": "code",
      "metadata": {
        "colab": {
          "base_uri": "https://localhost:8080/",
          "height": 285
        },
        "id": "Qm_QZgRfJCVq",
        "outputId": "1eb2f1c8-c5d7-4f92-fcd1-a136d7d3ce90"
      },
      "source": [
        "plt.imshow(X[1])\n",
        "print(X.shape)"
      ],
      "execution_count": 54,
      "outputs": [
        {
          "output_type": "stream",
          "text": [
            "(8870, 80, 60, 3)\n"
          ],
          "name": "stdout"
        },
        {
          "output_type": "display_data",
          "data": {
            "image/png": "[encoded data removed]",
            "text/plain": [
              "<Figure size 432x288 with 1 Axes>"
            ]
          },
          "metadata": {
            "tags": [],
            "needs_background": "light"
          }
        }
      ]
    },
    {
      "cell_type": "code",
      "metadata": {
        "colab": {
          "base_uri": "https://localhost:8080/",
          "height": 456
        },
        "id": "N632yLEcBl4L",
        "outputId": "d27d2b1b-c546-4fa7-cf8b-8221bdf92883"
      },
      "source": [
        "df_onehot = df_onehot.loc[~df_onehot.id.isin( list(set(df_onehot.id) - set(Y_id))),: ]\n",
        "df_onehot # remove demaged images"
      ],
      "execution_count": 232,
      "outputs": [
        {
          "output_type": "execute_result",
          "data": {
            "text/html": [
              "<div>\n",
              "<style scoped>\n",
              "    .dataframe tbody tr th:only-of-type {\n",
              "        vertical-align: middle;\n",
              "    }\n",
              "\n",
              "    .dataframe tbody tr th {\n",
              "        vertical-align: top;\n",
              "    }\n",
              "\n",
              "    .dataframe thead th {\n",
              "        text-align: right;\n",
              "    }\n",
              "</style>\n",
              "<table border=\"1\" class=\"dataframe\">\n",
              "  <thead>\n",
              "    <tr style=\"text-align: right;\">\n",
              "      <th></th>\n",
              "      <th>id</th>\n",
              "      <th>gender</th>\n",
              "      <th>masterCategory</th>\n",
              "      <th>subCategory</th>\n",
              "      <th>season</th>\n",
              "      <th>usage</th>\n",
              "      <th>gender_Girls</th>\n",
              "      <th>gender_Men</th>\n",
              "      <th>gender_Unisex</th>\n",
              "      <th>gender_Women</th>\n",
              "      <th>masterCategory_Apparel</th>\n",
              "      <th>masterCategory_Footwear</th>\n",
              "      <th>masterCategory_Free Items</th>\n",
              "      <th>subCategory_Bottomwear</th>\n",
              "      <th>subCategory_Eyewear</th>\n",
              "      <th>subCategory_Free Gifts</th>\n",
              "      <th>subCategory_Loungewear and Nightwear</th>\n",
              "      <th>subCategory_Shoes</th>\n",
              "      <th>subCategory_Topwear</th>\n",
              "      <th>subCategory_Watches</th>\n",
              "      <th>season_Spring</th>\n",
              "      <th>season_Summer</th>\n",
              "      <th>season_Winter</th>\n",
              "      <th>usage_Ethnic</th>\n",
              "      <th>usage_Formal</th>\n",
              "      <th>usage_Party</th>\n",
              "      <th>usage_Smart Casual</th>\n",
              "      <th>usage_Sports</th>\n",
              "      <th>usage_Travel</th>\n",
              "    </tr>\n",
              "  </thead>\n",
              "  <tbody>\n",
              "    <tr>\n",
              "      <th>0</th>\n",
              "      <td>33547</td>\n",
              "      <td>Men</td>\n",
              "      <td>Apparel</td>\n",
              "      <td>Topwear</td>\n",
              "      <td>Summer</td>\n",
              "      <td>Casual</td>\n",
              "      <td>0</td>\n",
              "      <td>1</td>\n",
              "      <td>0</td>\n",
              "      <td>0</td>\n",
              "      <td>1</td>\n",
              "      <td>0</td>\n",
              "      <td>0</td>\n",
              "      <td>0</td>\n",
              "      <td>0</td>\n",
              "      <td>0</td>\n",
              "      <td>0</td>\n",
              "      <td>0</td>\n",
              "      <td>1</td>\n",
              "      <td>0</td>\n",
              "      <td>0</td>\n",
              "      <td>1</td>\n",
              "      <td>0</td>\n",
              "      <td>0</td>\n",
              "      <td>0</td>\n",
              "      <td>0</td>\n",
              "      <td>0</td>\n",
              "      <td>0</td>\n",
              "      <td>0</td>\n",
              "    </tr>\n",
              "    <tr>\n",
              "      <th>1</th>\n",
              "      <td>33492</td>\n",
              "      <td>Men</td>\n",
              "      <td>Apparel</td>\n",
              "      <td>Topwear</td>\n",
              "      <td>Summer</td>\n",
              "      <td>Casual</td>\n",
              "      <td>0</td>\n",
              "      <td>1</td>\n",
              "      <td>0</td>\n",
              "      <td>0</td>\n",
              "      <td>1</td>\n",
              "      <td>0</td>\n",
              "      <td>0</td>\n",
              "      <td>0</td>\n",
              "      <td>0</td>\n",
              "      <td>0</td>\n",
              "      <td>0</td>\n",
              "      <td>0</td>\n",
              "      <td>1</td>\n",
              "      <td>0</td>\n",
              "      <td>0</td>\n",
              "      <td>1</td>\n",
              "      <td>0</td>\n",
              "      <td>0</td>\n",
              "      <td>0</td>\n",
              "      <td>0</td>\n",
              "      <td>0</td>\n",
              "      <td>0</td>\n",
              "      <td>0</td>\n",
              "    </tr>\n",
              "    <tr>\n",
              "      <th>2</th>\n",
              "      <td>8829</td>\n",
              "      <td>Men</td>\n",
              "      <td>Apparel</td>\n",
              "      <td>Topwear</td>\n",
              "      <td>Fall</td>\n",
              "      <td>Casual</td>\n",
              "      <td>0</td>\n",
              "      <td>1</td>\n",
              "      <td>0</td>\n",
              "      <td>0</td>\n",
              "      <td>1</td>\n",
              "      <td>0</td>\n",
              "      <td>0</td>\n",
              "      <td>0</td>\n",
              "      <td>0</td>\n",
              "      <td>0</td>\n",
              "      <td>0</td>\n",
              "      <td>0</td>\n",
              "      <td>1</td>\n",
              "      <td>0</td>\n",
              "      <td>0</td>\n",
              "      <td>0</td>\n",
              "      <td>0</td>\n",
              "      <td>0</td>\n",
              "      <td>0</td>\n",
              "      <td>0</td>\n",
              "      <td>0</td>\n",
              "      <td>0</td>\n",
              "      <td>0</td>\n",
              "    </tr>\n",
              "    <tr>\n",
              "      <th>3</th>\n",
              "      <td>19198</td>\n",
              "      <td>Men</td>\n",
              "      <td>Apparel</td>\n",
              "      <td>Topwear</td>\n",
              "      <td>Fall</td>\n",
              "      <td>Casual</td>\n",
              "      <td>0</td>\n",
              "      <td>1</td>\n",
              "      <td>0</td>\n",
              "      <td>0</td>\n",
              "      <td>1</td>\n",
              "      <td>0</td>\n",
              "      <td>0</td>\n",
              "      <td>0</td>\n",
              "      <td>0</td>\n",
              "      <td>0</td>\n",
              "      <td>0</td>\n",
              "      <td>0</td>\n",
              "      <td>1</td>\n",
              "      <td>0</td>\n",
              "      <td>0</td>\n",
              "      <td>0</td>\n",
              "      <td>0</td>\n",
              "      <td>0</td>\n",
              "      <td>0</td>\n",
              "      <td>0</td>\n",
              "      <td>0</td>\n",
              "      <td>0</td>\n",
              "      <td>0</td>\n",
              "    </tr>\n",
              "    <tr>\n",
              "      <th>4</th>\n",
              "      <td>15981</td>\n",
              "      <td>Men</td>\n",
              "      <td>Apparel</td>\n",
              "      <td>Topwear</td>\n",
              "      <td>Fall</td>\n",
              "      <td>Casual</td>\n",
              "      <td>0</td>\n",
              "      <td>1</td>\n",
              "      <td>0</td>\n",
              "      <td>0</td>\n",
              "      <td>1</td>\n",
              "      <td>0</td>\n",
              "      <td>0</td>\n",
              "      <td>0</td>\n",
              "      <td>0</td>\n",
              "      <td>0</td>\n",
              "      <td>0</td>\n",
              "      <td>0</td>\n",
              "      <td>1</td>\n",
              "      <td>0</td>\n",
              "      <td>0</td>\n",
              "      <td>0</td>\n",
              "      <td>0</td>\n",
              "      <td>0</td>\n",
              "      <td>0</td>\n",
              "      <td>0</td>\n",
              "      <td>0</td>\n",
              "      <td>0</td>\n",
              "      <td>0</td>\n",
              "    </tr>\n",
              "    <tr>\n",
              "      <th>...</th>\n",
              "      <td>...</td>\n",
              "      <td>...</td>\n",
              "      <td>...</td>\n",
              "      <td>...</td>\n",
              "      <td>...</td>\n",
              "      <td>...</td>\n",
              "      <td>...</td>\n",
              "      <td>...</td>\n",
              "      <td>...</td>\n",
              "      <td>...</td>\n",
              "      <td>...</td>\n",
              "      <td>...</td>\n",
              "      <td>...</td>\n",
              "      <td>...</td>\n",
              "      <td>...</td>\n",
              "      <td>...</td>\n",
              "      <td>...</td>\n",
              "      <td>...</td>\n",
              "      <td>...</td>\n",
              "      <td>...</td>\n",
              "      <td>...</td>\n",
              "      <td>...</td>\n",
              "      <td>...</td>\n",
              "      <td>...</td>\n",
              "      <td>...</td>\n",
              "      <td>...</td>\n",
              "      <td>...</td>\n",
              "      <td>...</td>\n",
              "      <td>...</td>\n",
              "    </tr>\n",
              "    <tr>\n",
              "      <th>8867</th>\n",
              "      <td>4797</td>\n",
              "      <td>Men</td>\n",
              "      <td>Apparel</td>\n",
              "      <td>Bottomwear</td>\n",
              "      <td>Summer</td>\n",
              "      <td>Sports</td>\n",
              "      <td>0</td>\n",
              "      <td>1</td>\n",
              "      <td>0</td>\n",
              "      <td>0</td>\n",
              "      <td>1</td>\n",
              "      <td>0</td>\n",
              "      <td>0</td>\n",
              "      <td>1</td>\n",
              "      <td>0</td>\n",
              "      <td>0</td>\n",
              "      <td>0</td>\n",
              "      <td>0</td>\n",
              "      <td>0</td>\n",
              "      <td>0</td>\n",
              "      <td>0</td>\n",
              "      <td>1</td>\n",
              "      <td>0</td>\n",
              "      <td>0</td>\n",
              "      <td>0</td>\n",
              "      <td>0</td>\n",
              "      <td>0</td>\n",
              "      <td>1</td>\n",
              "      <td>0</td>\n",
              "    </tr>\n",
              "    <tr>\n",
              "      <th>8868</th>\n",
              "      <td>9075</td>\n",
              "      <td>Men</td>\n",
              "      <td>Apparel</td>\n",
              "      <td>Bottomwear</td>\n",
              "      <td>Fall</td>\n",
              "      <td>Sports</td>\n",
              "      <td>0</td>\n",
              "      <td>1</td>\n",
              "      <td>0</td>\n",
              "      <td>0</td>\n",
              "      <td>1</td>\n",
              "      <td>0</td>\n",
              "      <td>0</td>\n",
              "      <td>1</td>\n",
              "      <td>0</td>\n",
              "      <td>0</td>\n",
              "      <td>0</td>\n",
              "      <td>0</td>\n",
              "      <td>0</td>\n",
              "      <td>0</td>\n",
              "      <td>0</td>\n",
              "      <td>0</td>\n",
              "      <td>0</td>\n",
              "      <td>0</td>\n",
              "      <td>0</td>\n",
              "      <td>0</td>\n",
              "      <td>0</td>\n",
              "      <td>1</td>\n",
              "      <td>0</td>\n",
              "    </tr>\n",
              "    <tr>\n",
              "      <th>8869</th>\n",
              "      <td>28627</td>\n",
              "      <td>Men</td>\n",
              "      <td>Apparel</td>\n",
              "      <td>Bottomwear</td>\n",
              "      <td>Summer</td>\n",
              "      <td>Sports</td>\n",
              "      <td>0</td>\n",
              "      <td>1</td>\n",
              "      <td>0</td>\n",
              "      <td>0</td>\n",
              "      <td>1</td>\n",
              "      <td>0</td>\n",
              "      <td>0</td>\n",
              "      <td>1</td>\n",
              "      <td>0</td>\n",
              "      <td>0</td>\n",
              "      <td>0</td>\n",
              "      <td>0</td>\n",
              "      <td>0</td>\n",
              "      <td>0</td>\n",
              "      <td>0</td>\n",
              "      <td>1</td>\n",
              "      <td>0</td>\n",
              "      <td>0</td>\n",
              "      <td>0</td>\n",
              "      <td>0</td>\n",
              "      <td>0</td>\n",
              "      <td>1</td>\n",
              "      <td>0</td>\n",
              "    </tr>\n",
              "    <tr>\n",
              "      <th>8870</th>\n",
              "      <td>9081</td>\n",
              "      <td>Men</td>\n",
              "      <td>Apparel</td>\n",
              "      <td>Bottomwear</td>\n",
              "      <td>Fall</td>\n",
              "      <td>Sports</td>\n",
              "      <td>0</td>\n",
              "      <td>1</td>\n",
              "      <td>0</td>\n",
              "      <td>0</td>\n",
              "      <td>1</td>\n",
              "      <td>0</td>\n",
              "      <td>0</td>\n",
              "      <td>1</td>\n",
              "      <td>0</td>\n",
              "      <td>0</td>\n",
              "      <td>0</td>\n",
              "      <td>0</td>\n",
              "      <td>0</td>\n",
              "      <td>0</td>\n",
              "      <td>0</td>\n",
              "      <td>0</td>\n",
              "      <td>0</td>\n",
              "      <td>0</td>\n",
              "      <td>0</td>\n",
              "      <td>0</td>\n",
              "      <td>0</td>\n",
              "      <td>1</td>\n",
              "      <td>0</td>\n",
              "    </tr>\n",
              "    <tr>\n",
              "      <th>8871</th>\n",
              "      <td>26312</td>\n",
              "      <td>Men</td>\n",
              "      <td>Apparel</td>\n",
              "      <td>Bottomwear</td>\n",
              "      <td>Summer</td>\n",
              "      <td>Sports</td>\n",
              "      <td>0</td>\n",
              "      <td>1</td>\n",
              "      <td>0</td>\n",
              "      <td>0</td>\n",
              "      <td>1</td>\n",
              "      <td>0</td>\n",
              "      <td>0</td>\n",
              "      <td>1</td>\n",
              "      <td>0</td>\n",
              "      <td>0</td>\n",
              "      <td>0</td>\n",
              "      <td>0</td>\n",
              "      <td>0</td>\n",
              "      <td>0</td>\n",
              "      <td>0</td>\n",
              "      <td>1</td>\n",
              "      <td>0</td>\n",
              "      <td>0</td>\n",
              "      <td>0</td>\n",
              "      <td>0</td>\n",
              "      <td>0</td>\n",
              "      <td>1</td>\n",
              "      <td>0</td>\n",
              "    </tr>\n",
              "  </tbody>\n",
              "</table>\n",
              "<p>8870 rows × 29 columns</p>\n",
              "</div>"
            ],
            "text/plain": [
              "         id gender  ... usage_Sports usage_Travel\n",
              "0     33547    Men  ...            0            0\n",
              "1     33492    Men  ...            0            0\n",
              "2      8829    Men  ...            0            0\n",
              "3     19198    Men  ...            0            0\n",
              "4     15981    Men  ...            0            0\n",
              "...     ...    ...  ...          ...          ...\n",
              "8867   4797    Men  ...            1            0\n",
              "8868   9075    Men  ...            1            0\n",
              "8869  28627    Men  ...            1            0\n",
              "8870   9081    Men  ...            1            0\n",
              "8871  26312    Men  ...            1            0\n",
              "\n",
              "[8870 rows x 29 columns]"
            ]
          },
          "metadata": {
            "tags": []
          },
          "execution_count": 232
        }
      ]
    },
    {
      "cell_type": "code",
      "metadata": {
        "id": "HfoD8byUwKJt"
      },
      "source": [
        "df_onehot.gender = pd.Categorical(df_onehot.gender)\n",
        "df_onehot.usage = pd.Categorical(df_onehot.usage)\n",
        "df_onehot.masterCategory = pd.Categorical(df_onehot.masterCategory)\n",
        "df_onehot.season = pd.Categorical(df_onehot.season)\n",
        "df_onehot.subCategory = pd.Categorical(df_onehot.subCategory)"
      ],
      "execution_count": 233,
      "outputs": []
    },
    {
      "cell_type": "code",
      "metadata": {
        "colab": {
          "base_uri": "https://localhost:8080/"
        },
        "id": "09Ms-c87S4qm",
        "outputId": "c92a4815-aad8-4d50-d4c0-ceeb55ad9869"
      },
      "source": [
        "df_onehot.columns"
      ],
      "execution_count": 212,
      "outputs": [
        {
          "output_type": "execute_result",
          "data": {
            "text/plain": [
              "Index(['id', 'gender', 'masterCategory', 'season', 'usage', 'gender_Girls',\n",
              "       'gender_Men', 'gender_Unisex', 'gender_Women', 'masterCategory_Apparel',\n",
              "       'masterCategory_Footwear', 'masterCategory_Free Items',\n",
              "       'subCategory_Bottomwear', 'subCategory_Eyewear',\n",
              "       'subCategory_Free Gifts', 'subCategory_Loungewear and Nightwear',\n",
              "       'subCategory_Shoes', 'subCategory_Topwear', 'subCategory_Watches',\n",
              "       'season_Spring', 'season_Summer', 'season_Winter', 'usage_Ethnic',\n",
              "       'usage_Formal', 'usage_Party', 'usage_Smart Casual', 'usage_Sports',\n",
              "       'usage_Travel'],\n",
              "      dtype='object')"
            ]
          },
          "metadata": {
            "tags": []
          },
          "execution_count": 212
        }
      ]
    },
    {
      "cell_type": "code",
      "metadata": {
        "colab": {
          "base_uri": "https://localhost:8080/"
        },
        "id": "ocdAcbXExhbJ",
        "outputId": "0445cb57-1ffe-4139-ea81-fe56e7757988"
      },
      "source": [
        "# check order \n",
        "print(list(df_onehot.id) == Y_id)\n",
        "\n",
        "\n",
        "# build y\n",
        "Y = np.array(df_onehot.drop(['id', 'gender', 'masterCategory',\n",
        "       'season', 'usage'],axis=1))\n",
        "print('y shape:',Y.shape,'x shape:', X.shape)\n",
        "\n",
        "\n"
      ],
      "execution_count": 215,
      "outputs": [
        {
          "output_type": "stream",
          "text": [
            "True\n",
            "y shape: (8870, 23) x shape: (8870, 80, 60, 3)\n"
          ],
          "name": "stdout"
        }
      ]
    },
    {
      "cell_type": "code",
      "metadata": {
        "id": "bi6oeXyYi1T3",
        "colab": {
          "base_uri": "https://localhost:8080/"
        },
        "outputId": "9f6b375c-0fb3-4c66-acba-722b110773ce"
      },
      "source": [
        "X_train, X_test, Y_train, Y_test = train_test_split(X, Y, random_state=42, test_size=0.2)\n",
        "print(f\"train_X: {X_train.shape}, test_X = {X_test.shape}\")"
      ],
      "execution_count": 119,
      "outputs": [
        {
          "output_type": "stream",
          "text": [
            "train_X: (7096, 80, 60, 3), test_X = (1774, 80, 60, 3)\n"
          ],
          "name": "stdout"
        }
      ]
    },
    {
      "cell_type": "markdown",
      "metadata": {
        "id": "PHw_E-G89hqO"
      },
      "source": [
        "# Multi class, multi labels"
      ]
    },
    {
      "cell_type": "code",
      "metadata": {
        "id": "IzJDA4nzdJ6w",
        "colab": {
          "base_uri": "https://localhost:8080/"
        },
        "outputId": "58dae25c-b2a7-4d35-c7ad-af2903d90703"
      },
      "source": [
        "model1_1 = Sequential([\n",
        "    Conv2D(filters=32, kernel_size=(5, 5), activation=\"relu\", input_shape=(80,60,3)),\n",
        "    #Conv2D(filters=32, kernel_size=(5, 5), activation=\"relu\", input_shape=(80,60,3)),\n",
        "    MaxPooling2D(pool_size=(2, 2)),\n",
        "    Dropout(0.25),\n",
        "    Conv2D(filters=64, kernel_size=(5, 5), activation='relu'),\n",
        "    #Conv2D(filters=64, kernel_size=(5, 5), activation='relu'),\n",
        "    MaxPooling2D(pool_size=(2, 2)),\n",
        "    Dropout(0.25),\n",
        "    Conv2D(filters=128, kernel_size=(5, 5), activation='relu'),\n",
        "    #Conv2D(filters=128, kernel_size=(5, 5), activation='relu'),\n",
        "    MaxPooling2D(pool_size=(2,2)),\n",
        "    Dropout(0.25),\n",
        "    Flatten(),\n",
        "    #Dense(128, activation='relu'),\n",
        "    #Dropout(0.25),\n",
        "    Dense(64, activation='relu'),\n",
        "    Dropout(0.25),\n",
        "    Dense(32, activation='relu'),\n",
        "    Dense(16, activation='sigmoid')])\n",
        "\n",
        "model1_1.summary()"
      ],
      "execution_count": 138,
      "outputs": [
        {
          "output_type": "stream",
          "text": [
            "Model: \"sequential_42\"\n",
            "_________________________________________________________________\n",
            "Layer (type)                 Output Shape              Param #   \n",
            "=================================================================\n",
            "conv2d_180 (Conv2D)          (None, 76, 56, 32)        2432      \n",
            "_________________________________________________________________\n",
            "max_pooling2d_137 (MaxPoolin (None, 38, 28, 32)        0         \n",
            "_________________________________________________________________\n",
            "dropout_143 (Dropout)        (None, 38, 28, 32)        0         \n",
            "_________________________________________________________________\n",
            "conv2d_181 (Conv2D)          (None, 34, 24, 64)        51264     \n",
            "_________________________________________________________________\n",
            "max_pooling2d_138 (MaxPoolin (None, 17, 12, 64)        0         \n",
            "_________________________________________________________________\n",
            "dropout_144 (Dropout)        (None, 17, 12, 64)        0         \n",
            "_________________________________________________________________\n",
            "conv2d_182 (Conv2D)          (None, 13, 8, 128)        204928    \n",
            "_________________________________________________________________\n",
            "max_pooling2d_139 (MaxPoolin (None, 6, 4, 128)         0         \n",
            "_________________________________________________________________\n",
            "dropout_145 (Dropout)        (None, 6, 4, 128)         0         \n",
            "_________________________________________________________________\n",
            "flatten_27 (Flatten)         (None, 3072)              0         \n",
            "_________________________________________________________________\n",
            "dense_89 (Dense)             (None, 64)                196672    \n",
            "_________________________________________________________________\n",
            "dropout_146 (Dropout)        (None, 64)                0         \n",
            "_________________________________________________________________\n",
            "dense_90 (Dense)             (None, 32)                2080      \n",
            "_________________________________________________________________\n",
            "dense_91 (Dense)             (None, 16)                528       \n",
            "=================================================================\n",
            "Total params: 457,904\n",
            "Trainable params: 457,904\n",
            "Non-trainable params: 0\n",
            "_________________________________________________________________\n"
          ],
          "name": "stdout"
        }
      ]
    },
    {
      "cell_type": "code",
      "metadata": {
        "colab": {
          "base_uri": "https://localhost:8080/"
        },
        "id": "NZKpftUxLIUr",
        "outputId": "74698f1c-645d-45c8-db93-b54e030c79e6"
      },
      "source": [
        "#X_train, X_test, Y_train, Y_test\n",
        "model1_1.compile(optimizer='adam', loss='binary_crossentropy', metrics=['accuracy'])\n",
        "results1_1 = model1_1.fit(X_train, Y_train, \n",
        "          epochs=10, \n",
        "          batch_size = 64,\n",
        "          validation_data=(X_test, Y_test))\n"
      ],
      "execution_count": 139,
      "outputs": [
        {
          "output_type": "stream",
          "text": [
            "Epoch 1/10\n",
            "111/111 [==============================] - 97s 872ms/step - loss: 0.3273 - accuracy: 0.2394 - val_loss: 0.2366 - val_accuracy: 0.2435\n",
            "Epoch 2/10\n",
            "111/111 [==============================] - 96s 867ms/step - loss: 0.2061 - accuracy: 0.2696 - val_loss: 0.1588 - val_accuracy: 0.2976\n",
            "Epoch 3/10\n",
            "111/111 [==============================] - 97s 873ms/step - loss: 0.1712 - accuracy: 0.2968 - val_loss: 0.1383 - val_accuracy: 0.2931\n",
            "Epoch 4/10\n",
            "111/111 [==============================] - 96s 867ms/step - loss: 0.1541 - accuracy: 0.2851 - val_loss: 0.1317 - val_accuracy: 0.2734\n",
            "Epoch 5/10\n",
            "111/111 [==============================] - 97s 871ms/step - loss: 0.1440 - accuracy: 0.2919 - val_loss: 0.1316 - val_accuracy: 0.2666\n",
            "Epoch 6/10\n",
            "111/111 [==============================] - 97s 877ms/step - loss: 0.1371 - accuracy: 0.3014 - val_loss: 0.1193 - val_accuracy: 0.3055\n",
            "Epoch 7/10\n",
            "111/111 [==============================] - 97s 871ms/step - loss: 0.1311 - accuracy: 0.3059 - val_loss: 0.1178 - val_accuracy: 0.2480\n",
            "Epoch 8/10\n",
            "111/111 [==============================] - 96s 869ms/step - loss: 0.1262 - accuracy: 0.3293 - val_loss: 0.1122 - val_accuracy: 0.3202\n",
            "Epoch 9/10\n",
            "111/111 [==============================] - 97s 873ms/step - loss: 0.1242 - accuracy: 0.3145 - val_loss: 0.1129 - val_accuracy: 0.2897\n",
            "Epoch 10/10\n",
            "111/111 [==============================] - 97s 873ms/step - loss: 0.1210 - accuracy: 0.3088 - val_loss: 0.1107 - val_accuracy: 0.2717\n"
          ],
          "name": "stdout"
        }
      ]
    },
    {
      "cell_type": "code",
      "metadata": {
        "colab": {
          "base_uri": "https://localhost:8080/",
          "height": 282
        },
        "id": "8DbDlI0BZViK",
        "outputId": "70756a87-e1f2-4cc3-8eab-c8f6c79f1001"
      },
      "source": [
        "plt.plot(results1_1.history[\"accuracy\"])\n",
        "plt.plot(results1_1.history[\"val_accuracy\"])\n",
        "plt.legend(labels=[\"train\", \"val\"])"
      ],
      "execution_count": 140,
      "outputs": [
        {
          "output_type": "execute_result",
          "data": {
            "text/plain": [
              "<matplotlib.legend.Legend at 0x7ff925dfdd68>"
            ]
          },
          "metadata": {
            "tags": []
          },
          "execution_count": 140
        },
        {
          "output_type": "display_data",
          "data": {
            "image/png": "[encoded data removed]",
            "text/plain": [
              "<Figure size 432x288 with 1 Axes>"
            ]
          },
          "metadata": {
            "tags": [],
            "needs_background": "light"
          }
        }
      ]
    },
    {
      "cell_type": "code",
      "metadata": {
        "colab": {
          "base_uri": "https://localhost:8080/"
        },
        "id": "VmpCo2v6TPpF",
        "outputId": "e5baaf6d-cd73-4bda-c143-8453da829b61"
      },
      "source": [
        "df_onehot.columns\n"
      ],
      "execution_count": 120,
      "outputs": [
        {
          "output_type": "execute_result",
          "data": {
            "text/plain": [
              "Index(['id', 'gender', 'masterCategory', 'season', 'usage', 'gender_Girls',\n",
              "       'gender_Men', 'gender_Unisex', 'gender_Women', 'masterCategory_Apparel',\n",
              "       'masterCategory_Footwear', 'masterCategory_Free Items', 'season_Spring',\n",
              "       'season_Summer', 'season_Winter', 'usage_Ethnic', 'usage_Formal',\n",
              "       'usage_Party', 'usage_Smart Casual', 'usage_Sports', 'usage_Travel'],\n",
              "      dtype='object')"
            ]
          },
          "metadata": {
            "tags": []
          },
          "execution_count": 120
        }
      ]
    },
    {
      "cell_type": "code",
      "metadata": {
        "id": "nTc5t2bYHdly"
      },
      "source": [
        ""
      ],
      "execution_count": null,
      "outputs": []
    },
    {
      "cell_type": "markdown",
      "metadata": {
        "id": "ETXI5ZQmHd-l"
      },
      "source": [
        "# multi class"
      ]
    },
    {
      "cell_type": "code",
      "metadata": {
        "colab": {
          "base_uri": "https://localhost:8080/"
        },
        "id": "VNZ9QlHeGX6p",
        "outputId": "5dc6f297-d4de-4dc5-9275-6188e44dafab"
      },
      "source": [
        "df_onehot = df_onehot.assign(ColumnA = df_onehot.gender.astype(str) + ', ' + \n",
        "  df_onehot.masterCategory.astype(str) + ', ' + df_onehot.season.astype(str) + ', ' + df_onehot.usage.astype(str) )\n",
        "df_onehot.ColumnA = pd.Categorical(df_onehot.ColumnA)\n",
        "from keras.utils import  to_categorical\n",
        "categ = 'ColumnA'\n",
        "Y1_2 = np.array(df_onehot[categ].cat.codes)\n",
        "Y1_2 = to_categorical(Y1_2)\n",
        "\n",
        "print('y shape:',Y1_2.shape,'x shape:', X.shape)\n",
        "\n",
        "X_train1_2, X_test1_2, Y_train1_2, Y_test1_2 = train_test_split(X, Y1_2, test_size=0.2)\n",
        "print(f\"train_X: {X_train1_2.shape}, test_X = {X_test1_2.shape}\")"
      ],
      "execution_count": 142,
      "outputs": [
        {
          "output_type": "stream",
          "text": [
            "y shape: (8870, 99) x shape: (8870, 80, 60, 3)\n",
            "train_X: (7096, 80, 60, 3), test_X = (1774, 80, 60, 3)\n"
          ],
          "name": "stdout"
        }
      ]
    },
    {
      "cell_type": "code",
      "metadata": {
        "id": "qthlz_34H7WL"
      },
      "source": [
        "model1_2 = Sequential()\n",
        "\n",
        "model1_2 = Sequential([\n",
        "    Conv2D(filters=32, kernel_size=(5, 5), activation=\"relu\", input_shape=(80,60,3)),\n",
        "    #Conv2D(filters=32, kernel_size=(5, 5), activation=\"relu\", input_shape=(80,60,3)),\n",
        "    MaxPooling2D(pool_size=(2, 2)),\n",
        "    Dropout(0.25),\n",
        "    Conv2D(filters=64, kernel_size=(5, 5), activation='relu'),\n",
        "    #Conv2D(filters=64, kernel_size=(5, 5), activation='relu'),\n",
        "    MaxPooling2D(pool_size=(2, 2)),\n",
        "    Dropout(0.25),\n",
        "    Conv2D(filters=128, kernel_size=(5, 5), activation='relu'),\n",
        "    #Conv2D(filters=128, kernel_size=(5, 5), activation='relu'),\n",
        "    MaxPooling2D(pool_size=(2,2)),\n",
        "    Dropout(0.25),\n",
        "    Flatten(),\n",
        "    Dense(128, activation='relu'),\n",
        "    Dropout(0.25),\n",
        "    #Dense(64, activation='relu'),\n",
        "    #Dropout(0.25),\n",
        "    #Dense(32, activation='relu'),\n",
        "    Dense(99, activation='softmax')])\n",
        "\n",
        "model1_2.compile(optimizer = 'rmsprop',loss = 'categorical_crossentropy', metrics = ['accuracy'])\n",
        "model1_2.summary()\n"
      ],
      "execution_count": null,
      "outputs": []
    },
    {
      "cell_type": "code",
      "metadata": {
        "colab": {
          "base_uri": "https://localhost:8080/"
        },
        "id": "MdDmHy63M7k5",
        "outputId": "70de4f17-f75c-458a-be9b-ac3a7bd63c25"
      },
      "source": [
        "results1_2 = model1_2.fit(X_train1_2, Y_train1_2, \n",
        "          epochs=10, \n",
        "          batch_size = 64,\n",
        "          validation_data=(X_test1_2, Y_test1_2))"
      ],
      "execution_count": 144,
      "outputs": [
        {
          "output_type": "stream",
          "text": [
            "Epoch 1/10\n",
            "111/111 [==============================] - 97s 874ms/step - loss: 3.0028 - accuracy: 0.2310 - val_loss: 2.1960 - val_accuracy: 0.4419\n",
            "Epoch 2/10\n",
            "111/111 [==============================] - 97s 877ms/step - loss: 1.9335 - accuracy: 0.4539 - val_loss: 1.8400 - val_accuracy: 0.4899\n",
            "Epoch 3/10\n",
            "111/111 [==============================] - 97s 878ms/step - loss: 1.6316 - accuracy: 0.5114 - val_loss: 1.5216 - val_accuracy: 0.5536\n",
            "Epoch 4/10\n",
            "111/111 [==============================] - 97s 876ms/step - loss: 1.4988 - accuracy: 0.5630 - val_loss: 1.4881 - val_accuracy: 0.5434\n",
            "Epoch 5/10\n",
            "111/111 [==============================] - 98s 879ms/step - loss: 1.3631 - accuracy: 0.5792 - val_loss: 1.4159 - val_accuracy: 0.5891\n",
            "Epoch 6/10\n",
            "111/111 [==============================] - 97s 878ms/step - loss: 1.2802 - accuracy: 0.5992 - val_loss: 1.3117 - val_accuracy: 0.6037\n",
            "Epoch 7/10\n",
            "111/111 [==============================] - 98s 884ms/step - loss: 1.2199 - accuracy: 0.6153 - val_loss: 1.3295 - val_accuracy: 0.6065\n",
            "Epoch 8/10\n",
            "111/111 [==============================] - 97s 872ms/step - loss: 1.1451 - accuracy: 0.6367 - val_loss: 1.2874 - val_accuracy: 0.6133\n",
            "Epoch 9/10\n",
            "111/111 [==============================] - 97s 875ms/step - loss: 1.0972 - accuracy: 0.6452 - val_loss: 1.3323 - val_accuracy: 0.6257\n",
            "Epoch 10/10\n",
            "111/111 [==============================] - 98s 883ms/step - loss: 1.0319 - accuracy: 0.6618 - val_loss: 1.3263 - val_accuracy: 0.6206\n"
          ],
          "name": "stdout"
        }
      ]
    },
    {
      "cell_type": "code",
      "metadata": {
        "colab": {
          "base_uri": "https://localhost:8080/",
          "height": 282
        },
        "id": "wAOmV29GQzGs",
        "outputId": "9f4c7124-27b0-456c-e2f8-3be7d64bb73e"
      },
      "source": [
        "plt.plot(results1_2.history[\"accuracy\"])\n",
        "plt.plot(results1_2.history[\"val_accuracy\"])\n",
        "plt.plot(results1_1.history[\"accuracy\"])\n",
        "plt.plot(results1_1.history[\"val_accuracy\"])\n",
        "plt.legend(labels=[\"train2\", \"val2\",\"train1\", \"val1\"])"
      ],
      "execution_count": 147,
      "outputs": [
        {
          "output_type": "execute_result",
          "data": {
            "text/plain": [
              "<matplotlib.legend.Legend at 0x7ff921248400>"
            ]
          },
          "metadata": {
            "tags": []
          },
          "execution_count": 147
        },
        {
          "output_type": "display_data",
          "data": {
            "image/png": "[encoded data removed]",
            "text/plain": [
              "<Figure size 432x288 with 1 Axes>"
            ]
          },
          "metadata": {
            "tags": [],
            "needs_background": "light"
          }
        }
      ]
    },
    {
      "cell_type": "markdown",
      "metadata": {
        "id": "knQWn7QMlHNF"
      },
      "source": [
        "# MasterCategory\n"
      ]
    },
    {
      "cell_type": "code",
      "metadata": {
        "colab": {
          "base_uri": "https://localhost:8080/"
        },
        "id": "fyLcSN94Q22m",
        "outputId": "291afb5d-1347-44db-eeb3-ea3b8513efbb"
      },
      "source": [
        "df_onehot.columns"
      ],
      "execution_count": 155,
      "outputs": [
        {
          "output_type": "execute_result",
          "data": {
            "text/plain": [
              "Index(['id', 'gender', 'masterCategory', 'season', 'usage', 'gender_Girls',\n",
              "       'gender_Men', 'gender_Unisex', 'gender_Women', 'masterCategory_Apparel',\n",
              "       'masterCategory_Footwear', 'masterCategory_Free Items', 'season_Spring',\n",
              "       'season_Summer', 'season_Winter', 'usage_Ethnic', 'usage_Formal',\n",
              "       'usage_Party', 'usage_Smart Casual', 'usage_Sports', 'usage_Travel',\n",
              "       'ColumnA'],\n",
              "      dtype='object')"
            ]
          },
          "metadata": {
            "tags": []
          },
          "execution_count": 155
        }
      ]
    },
    {
      "cell_type": "markdown",
      "metadata": {
        "id": "646_de2Z9bmY"
      },
      "source": [
        "### Single class - multiple labels"
      ]
    },
    {
      "cell_type": "code",
      "metadata": {
        "colab": {
          "base_uri": "https://localhost:8080/"
        },
        "id": "GeWOi-ZkRwQ7",
        "outputId": "27574e70-bc46-47af-993a-a4825a735124"
      },
      "source": [
        "# build y\n",
        "from keras.utils import normalize, to_categorical\n",
        "categ = [ 'masterCategory_Apparel',\n",
        "       'masterCategory_Footwear', 'masterCategory_Free Items']\n",
        "Y2 = np.array(df_onehot[categ])\n",
        "print('y shape:',Y3.shape,'x shape:', X.shape)\n",
        "\n",
        "X_train2, X_test2, Y_train2, Y_test2 = train_test_split(X, Y2, test_size=0.2)\n",
        "print(f\"train_X: {X_train2.shape}, test_X = {X_test2.shape}\")"
      ],
      "execution_count": 156,
      "outputs": [
        {
          "output_type": "stream",
          "text": [
            "y shape: (8870, 8) x shape: (8870, 80, 60, 3)\n",
            "train_X: (7096, 80, 60, 3), test_X = (1774, 80, 60, 3)\n"
          ],
          "name": "stdout"
        }
      ]
    },
    {
      "cell_type": "code",
      "metadata": {
        "id": "l_bfbQSfU6kp"
      },
      "source": [
        "\n",
        "model2 = Sequential([\n",
        "    Conv2D(filters=32, kernel_size=(5, 5), activation=\"relu\", input_shape=(80,60,3)),\n",
        "    MaxPooling2D(pool_size=(2, 2)),\n",
        "    Dropout(0.25),\n",
        "    Conv2D(filters=64, kernel_size=(5, 5), activation='relu'),\n",
        "    MaxPooling2D(pool_size=(2, 2)),\n",
        "    Dropout(0.25),\n",
        "    Conv2D(filters=64, kernel_size=(5, 5), activation='relu'),\n",
        "    MaxPooling2D(pool_size=(2, 2)),\n",
        "    Dropout(0.25),\n",
        "\n",
        "    Conv2D(filters=64, kernel_size=(2, 2), activation='relu'),\n",
        "    MaxPooling2D(pool_size=(2, 2)),\n",
        "    Dropout(0.25),\n",
        "\n",
        "    Flatten(),\n",
        "    Dense(32, activation='relu'),\n",
        "    Dropout(0.5),\n",
        "    Dense(16, activation='relu'),\n",
        "    Dense(8, activation='relu'),\n",
        "    Dense(3, activation='sigmoid')])\n",
        "model2.summary()\n"
      ],
      "execution_count": null,
      "outputs": []
    },
    {
      "cell_type": "code",
      "metadata": {
        "colab": {
          "base_uri": "https://localhost:8080/"
        },
        "id": "_u91W1UMSu4a",
        "outputId": "bde17ec0-30d5-4297-d15b-d4f6882f5684"
      },
      "source": [
        "model2.compile(optimizer='adam', loss='binary_crossentropy', metrics=['accuracy'])\n",
        "results2 = model2.fit(X_train2, Y_train2, \n",
        "          epochs=10, \n",
        "          batch_size = 64,\n",
        "          validation_data=(X_test2, Y_test2))"
      ],
      "execution_count": 158,
      "outputs": [
        {
          "output_type": "stream",
          "text": [
            "Epoch 1/10\n",
            "111/111 [==============================] - 89s 801ms/step - loss: 0.5156 - accuracy: 0.7010 - val_loss: 0.3962 - val_accuracy: 0.7830\n",
            "Epoch 2/10\n",
            "111/111 [==============================] - 88s 795ms/step - loss: 0.2994 - accuracy: 0.7899 - val_loss: 0.1950 - val_accuracy: 0.8388\n",
            "Epoch 3/10\n",
            "111/111 [==============================] - 88s 792ms/step - loss: 0.1745 - accuracy: 0.8829 - val_loss: 0.0927 - val_accuracy: 0.9273\n",
            "Epoch 4/10\n",
            "111/111 [==============================] - 88s 792ms/step - loss: 0.1192 - accuracy: 0.9173 - val_loss: 0.0669 - val_accuracy: 0.9329\n",
            "Epoch 5/10\n",
            "111/111 [==============================] - 88s 790ms/step - loss: 0.0853 - accuracy: 0.9235 - val_loss: 0.0581 - val_accuracy: 0.9707\n",
            "Epoch 6/10\n",
            "111/111 [==============================] - 88s 789ms/step - loss: 0.0715 - accuracy: 0.9153 - val_loss: 0.0345 - val_accuracy: 0.9628\n",
            "Epoch 7/10\n",
            "111/111 [==============================] - 88s 788ms/step - loss: 0.0541 - accuracy: 0.9049 - val_loss: 0.0320 - val_accuracy: 0.9729\n",
            "Epoch 8/10\n",
            "111/111 [==============================] - 88s 791ms/step - loss: 0.0524 - accuracy: 0.9026 - val_loss: 0.0426 - val_accuracy: 0.9487\n",
            "Epoch 9/10\n",
            "111/111 [==============================] - 88s 794ms/step - loss: 0.0419 - accuracy: 0.9050 - val_loss: 0.0277 - val_accuracy: 0.9927\n",
            "Epoch 10/10\n",
            "111/111 [==============================] - 87s 788ms/step - loss: 0.0384 - accuracy: 0.8887 - val_loss: 0.0268 - val_accuracy: 0.8923\n"
          ],
          "name": "stdout"
        }
      ]
    },
    {
      "cell_type": "markdown",
      "metadata": {
        "id": "1qDmWtBss2m8"
      },
      "source": [
        "### multi class, single labels"
      ]
    },
    {
      "cell_type": "code",
      "metadata": {
        "colab": {
          "base_uri": "https://localhost:8080/"
        },
        "id": "7FvC2PHznASJ",
        "outputId": "c6df1008-52ca-4ded-f3fd-fd6894f3b035"
      },
      "source": [
        "####  multi label -softmax \n",
        "# build y\n",
        "from keras.utils import  to_categorical\n",
        "categ = 'masterCategory'\n",
        "Y3 = np.array(df_onehot[categ].cat.codes)\n",
        "Y3 = to_categorical(Y3)\n",
        "\n",
        "print('y shape:',Y3.shape,'x shape:', X.shape)\n",
        "\n",
        "X_train3, X_test3, Y_train3, Y_test3 = train_test_split(X, Y3, test_size=0.2)\n",
        "print(f\"train_X: {X_train3.shape}, test_X = {X_test3.shape}\")"
      ],
      "execution_count": 159,
      "outputs": [
        {
          "output_type": "stream",
          "text": [
            "y shape: (8870, 4) x shape: (8870, 80, 60, 3)\n",
            "train_X: (7096, 80, 60, 3), test_X = (1774, 80, 60, 3)\n"
          ],
          "name": "stdout"
        }
      ]
    },
    {
      "cell_type": "code",
      "metadata": {
        "id": "yjTnKGQyuwVS"
      },
      "source": [
        "model3 = Sequential([\n",
        "    Conv2D(filters=32, kernel_size=(5, 5), activation=\"relu\", input_shape=(80,60,3)),\n",
        "    MaxPooling2D(pool_size=(2, 2)),\n",
        "    Dropout(0.25),\n",
        "    Conv2D(filters=64, kernel_size=(5, 5), activation='relu'),\n",
        "    MaxPooling2D(pool_size=(2, 2)),\n",
        "    Dropout(0.25),\n",
        "    Conv2D(filters=64, kernel_size=(5, 5), activation='relu'),\n",
        "    MaxPooling2D(pool_size=(2, 2)),\n",
        "    Dropout(0.25),\n",
        "\n",
        "    Conv2D(filters=64, kernel_size=(2, 2), activation='relu'),\n",
        "    MaxPooling2D(pool_size=(2, 2)),\n",
        "    Dropout(0.25),\n",
        "\n",
        "    Flatten(),\n",
        "    Dense(32, activation='relu'),\n",
        "    Dropout(0.5),\n",
        "    Dense(16, activation='relu'),\n",
        "    Dense(8, activation='relu'),\n",
        "    Dense(4, activation='softmax')])\n",
        "\n",
        "model3.compile(optimizer = 'rmsprop',loss = 'categorical_crossentropy', metrics = ['accuracy'])\n",
        "\n",
        "model3.summary()"
      ],
      "execution_count": null,
      "outputs": []
    },
    {
      "cell_type": "code",
      "metadata": {
        "colab": {
          "base_uri": "https://localhost:8080/"
        },
        "id": "8GTKzJaV24fr",
        "outputId": "c28c324c-94cb-417a-99c2-b33ea68d36f2"
      },
      "source": [
        "results3 = model3.fit(X_train3, Y_train3, \n",
        "          epochs=10, \n",
        "          batch_size = 64,\n",
        "          validation_data=(X_test3, Y_test3))"
      ],
      "execution_count": 166,
      "outputs": [
        {
          "output_type": "stream",
          "text": [
            "Epoch 1/10\n",
            "111/111 [==============================] - 88s 794ms/step - loss: 1.2238 - accuracy: 0.3952 - val_loss: 1.0621 - val_accuracy: 0.4882\n",
            "Epoch 2/10\n",
            "111/111 [==============================] - 89s 800ms/step - loss: 0.8496 - accuracy: 0.5559 - val_loss: 0.5410 - val_accuracy: 0.7289\n",
            "Epoch 3/10\n",
            "111/111 [==============================] - 88s 795ms/step - loss: 0.5595 - accuracy: 0.7462 - val_loss: 0.3468 - val_accuracy: 0.8641\n",
            "Epoch 4/10\n",
            "111/111 [==============================] - 89s 798ms/step - loss: 0.3667 - accuracy: 0.8598 - val_loss: 0.1672 - val_accuracy: 0.9312\n",
            "Epoch 5/10\n",
            "111/111 [==============================] - 89s 799ms/step - loss: 0.2432 - accuracy: 0.9160 - val_loss: 0.1209 - val_accuracy: 0.9532\n",
            "Epoch 6/10\n",
            "111/111 [==============================] - 88s 796ms/step - loss: 0.1776 - accuracy: 0.9421 - val_loss: 0.0826 - val_accuracy: 0.9713\n",
            "Epoch 7/10\n",
            "111/111 [==============================] - 89s 803ms/step - loss: 0.1355 - accuracy: 0.9573 - val_loss: 0.0647 - val_accuracy: 0.9775\n",
            "Epoch 8/10\n",
            "111/111 [==============================] - 88s 795ms/step - loss: 0.1271 - accuracy: 0.9651 - val_loss: 0.0684 - val_accuracy: 0.9814\n",
            "Epoch 9/10\n",
            "111/111 [==============================] - 88s 797ms/step - loss: 0.1082 - accuracy: 0.9697 - val_loss: 0.0621 - val_accuracy: 0.9848\n",
            "Epoch 10/10\n",
            "111/111 [==============================] - 88s 793ms/step - loss: 0.0913 - accuracy: 0.9752 - val_loss: 0.0599 - val_accuracy: 0.9865\n"
          ],
          "name": "stdout"
        }
      ]
    },
    {
      "cell_type": "code",
      "metadata": {
        "colab": {
          "base_uri": "https://localhost:8080/",
          "height": 350
        },
        "id": "jGGWuQUM8i97",
        "outputId": "c15b5515-b99c-402f-9726-74011e7056a5"
      },
      "source": [
        "print(\"multi class test\",np.around(np.array(results3.history[\"accuracy\"]), 2))\n",
        "print(\"multi class val\",np.around(np.array(results3.history[\"val_accuracy\"]), 2))\n",
        "print(\"multi label test\",np.around(np.array(results2.history[\"accuracy\"]), 2))\n",
        "print(\"multi label val\",np.around(np.array(results2.history[\"val_accuracy\"]), 2))\n",
        "\n",
        "plt.plot(results3.history[\"accuracy\"])\n",
        "plt.plot(results3.history[\"val_accuracy\"])\n",
        "plt.plot(results2.history[\"accuracy\"])\n",
        "plt.plot(results2.history[\"val_accuracy\"])\n",
        "plt.legend(labels=[\"train1\", \"val1\",\"train1\", \"val2\"])\n"
      ],
      "execution_count": 167,
      "outputs": [
        {
          "output_type": "stream",
          "text": [
            "multi class test [0.4  0.56 0.75 0.86 0.92 0.94 0.96 0.97 0.97 0.98]\n",
            "multi class val [0.49 0.73 0.86 0.93 0.95 0.97 0.98 0.98 0.98 0.99]\n",
            "multi label test [0.7  0.79 0.88 0.92 0.92 0.92 0.9  0.9  0.91 0.89]\n",
            "multi label val [0.78 0.84 0.93 0.93 0.97 0.96 0.97 0.95 0.99 0.89]\n"
          ],
          "name": "stdout"
        },
        {
          "output_type": "execute_result",
          "data": {
            "text/plain": [
              "<matplotlib.legend.Legend at 0x7ff9238b63c8>"
            ]
          },
          "metadata": {
            "tags": []
          },
          "execution_count": 167
        },
        {
          "output_type": "display_data",
          "data": {
            "image/png": "[encoded data removed]",
            "text/plain": [
              "<Figure size 432x288 with 1 Axes>"
            ]
          },
          "metadata": {
            "tags": [],
            "needs_background": "light"
          }
        }
      ]
    },
    {
      "cell_type": "markdown",
      "metadata": {
        "id": "V-_FQf92QmMY"
      },
      "source": [
        "# season\n"
      ]
    },
    {
      "cell_type": "code",
      "metadata": {
        "colab": {
          "base_uri": "https://localhost:8080/"
        },
        "id": "cAtgMb6LQtNz",
        "outputId": "f28b3932-f31c-4aa0-fbae-fd58b5221fd8"
      },
      "source": [
        "df_onehot.columns"
      ],
      "execution_count": 148,
      "outputs": [
        {
          "output_type": "execute_result",
          "data": {
            "text/plain": [
              "Index(['id', 'gender', 'masterCategory', 'season', 'usage', 'gender_Girls',\n",
              "       'gender_Men', 'gender_Unisex', 'gender_Women', 'masterCategory_Apparel',\n",
              "       'masterCategory_Footwear', 'masterCategory_Free Items', 'season_Spring',\n",
              "       'season_Summer', 'season_Winter', 'usage_Ethnic', 'usage_Formal',\n",
              "       'usage_Party', 'usage_Smart Casual', 'usage_Sports', 'usage_Travel',\n",
              "       'ColumnA'],\n",
              "      dtype='object')"
            ]
          },
          "metadata": {
            "tags": []
          },
          "execution_count": 148
        }
      ]
    },
    {
      "cell_type": "code",
      "metadata": {
        "colab": {
          "base_uri": "https://localhost:8080/"
        },
        "id": "tUAT0aXrQrWL",
        "outputId": "395d553f-34a1-47a6-af61-af1bea9bb77c"
      },
      "source": [
        "# build y\n",
        "from keras.utils import normalize, to_categorical\n",
        "categ = ['season_Spring','season_Summer', 'season_Winter']\n",
        "Y2 = np.array(df_onehot[categ])\n",
        "print('y shape:',Y2.shape,'x shape:', X.shape)\n",
        "\n",
        "X_train2, X_test2, Y_train2, Y_test2 = train_test_split(X, Y2, test_size=0.2)\n",
        "print(f\"train_X: {X_train2.shape}, test_X = {X_test2.shape}\")\n",
        "\n",
        "\n",
        "model2 = Sequential([\n",
        "    Conv2D(filters=32, kernel_size=(5, 5), activation=\"relu\", input_shape=(80,60,3)),\n",
        "    MaxPooling2D(pool_size=(2, 2)),\n",
        "    Dropout(0.25),\n",
        "    Conv2D(filters=64, kernel_size=(5, 5), activation='relu'),\n",
        "    MaxPooling2D(pool_size=(2, 2)),\n",
        "    Dropout(0.25),\n",
        "    Conv2D(filters=64, kernel_size=(5, 5), activation='relu'),\n",
        "    MaxPooling2D(pool_size=(2, 2)),\n",
        "    Dropout(0.25),\n",
        "\n",
        "    Conv2D(filters=64, kernel_size=(2, 2), activation='relu'),\n",
        "    MaxPooling2D(pool_size=(2, 2)),\n",
        "    Dropout(0.25),\n",
        "\n",
        "    Flatten(),\n",
        "    Dense(32, activation='relu'),\n",
        "    Dropout(0.5),\n",
        "    Dense(16, activation='relu'),\n",
        "    Dense(8, activation='relu'),\n",
        "    Dense(3, activation='sigmoid')])\n",
        "\n",
        "model2.compile(optimizer='adam', loss='binary_crossentropy', metrics=['accuracy'])\n",
        "model2.summary()"
      ],
      "execution_count": 190,
      "outputs": [
        {
          "output_type": "stream",
          "text": [
            "y shape: (8870, 3) x shape: (8870, 80, 60, 3)\n",
            "train_X: (7096, 80, 60, 3), test_X = (1774, 80, 60, 3)\n",
            "Model: \"sequential_56\"\n",
            "_________________________________________________________________\n",
            "Layer (type)                 Output Shape              Param #   \n",
            "=================================================================\n",
            "conv2d_230 (Conv2D)          (None, 76, 56, 32)        2432      \n",
            "_________________________________________________________________\n",
            "max_pooling2d_187 (MaxPoolin (None, 38, 28, 32)        0         \n",
            "_________________________________________________________________\n",
            "dropout_206 (Dropout)        (None, 38, 28, 32)        0         \n",
            "_________________________________________________________________\n",
            "conv2d_231 (Conv2D)          (None, 34, 24, 64)        51264     \n",
            "_________________________________________________________________\n",
            "max_pooling2d_188 (MaxPoolin (None, 17, 12, 64)        0         \n",
            "_________________________________________________________________\n",
            "dropout_207 (Dropout)        (None, 17, 12, 64)        0         \n",
            "_________________________________________________________________\n",
            "conv2d_232 (Conv2D)          (None, 13, 8, 64)         102464    \n",
            "_________________________________________________________________\n",
            "max_pooling2d_189 (MaxPoolin (None, 6, 4, 64)          0         \n",
            "_________________________________________________________________\n",
            "dropout_208 (Dropout)        (None, 6, 4, 64)          0         \n",
            "_________________________________________________________________\n",
            "conv2d_233 (Conv2D)          (None, 5, 3, 64)          16448     \n",
            "_________________________________________________________________\n",
            "max_pooling2d_190 (MaxPoolin (None, 2, 1, 64)          0         \n",
            "_________________________________________________________________\n",
            "dropout_209 (Dropout)        (None, 2, 1, 64)          0         \n",
            "_________________________________________________________________\n",
            "flatten_40 (Flatten)         (None, 128)               0         \n",
            "_________________________________________________________________\n",
            "dense_136 (Dense)            (None, 32)                4128      \n",
            "_________________________________________________________________\n",
            "dropout_210 (Dropout)        (None, 32)                0         \n",
            "_________________________________________________________________\n",
            "dense_137 (Dense)            (None, 16)                528       \n",
            "_________________________________________________________________\n",
            "dense_138 (Dense)            (None, 8)                 136       \n",
            "_________________________________________________________________\n",
            "dense_139 (Dense)            (None, 3)                 27        \n",
            "=================================================================\n",
            "Total params: 177,427\n",
            "Trainable params: 177,427\n",
            "Non-trainable params: 0\n",
            "_________________________________________________________________\n"
          ],
          "name": "stdout"
        }
      ]
    },
    {
      "cell_type": "code",
      "metadata": {
        "colab": {
          "base_uri": "https://localhost:8080/"
        },
        "id": "DOvyNjBiW-gy",
        "outputId": "2bdc4920-a5fa-4f86-db64-064bd79401af"
      },
      "source": [
        "results2 = model2.fit(X_train2, Y_train2, \n",
        "          epochs=10, \n",
        "          batch_size = 64,\n",
        "          validation_data=(X_test2, Y_test2))"
      ],
      "execution_count": 191,
      "outputs": [
        {
          "output_type": "stream",
          "text": [
            "Epoch 1/10\n",
            "111/111 [==============================] - 89s 801ms/step - loss: 0.5274 - accuracy: 0.3967 - val_loss: 0.5105 - val_accuracy: 0.3980\n",
            "Epoch 2/10\n",
            "111/111 [==============================] - 88s 793ms/step - loss: 0.4814 - accuracy: 0.4302 - val_loss: 0.4632 - val_accuracy: 0.4797\n",
            "Epoch 3/10\n",
            "111/111 [==============================] - 88s 789ms/step - loss: 0.4482 - accuracy: 0.5154 - val_loss: 0.4340 - val_accuracy: 0.5372\n",
            "Epoch 4/10\n",
            "111/111 [==============================] - 88s 790ms/step - loss: 0.4192 - accuracy: 0.5637 - val_loss: 0.4042 - val_accuracy: 0.5761\n",
            "Epoch 5/10\n",
            "111/111 [==============================] - 88s 791ms/step - loss: 0.3901 - accuracy: 0.5998 - val_loss: 0.3788 - val_accuracy: 0.5868\n",
            "Epoch 6/10\n",
            "111/111 [==============================] - 88s 792ms/step - loss: 0.3722 - accuracy: 0.6143 - val_loss: 0.3654 - val_accuracy: 0.6172\n",
            "Epoch 7/10\n",
            "111/111 [==============================] - 88s 793ms/step - loss: 0.3590 - accuracy: 0.6301 - val_loss: 0.3544 - val_accuracy: 0.6116\n",
            "Epoch 8/10\n",
            "111/111 [==============================] - 88s 794ms/step - loss: 0.3492 - accuracy: 0.6416 - val_loss: 0.3529 - val_accuracy: 0.6240\n",
            "Epoch 9/10\n",
            "111/111 [==============================] - 88s 795ms/step - loss: 0.3357 - accuracy: 0.6528 - val_loss: 0.3351 - val_accuracy: 0.6409\n",
            "Epoch 10/10\n",
            "111/111 [==============================] - 88s 791ms/step - loss: 0.3318 - accuracy: 0.6559 - val_loss: 0.3225 - val_accuracy: 0.6477\n"
          ],
          "name": "stdout"
        }
      ]
    },
    {
      "cell_type": "code",
      "metadata": {
        "colab": {
          "base_uri": "https://localhost:8080/"
        },
        "id": "PVgg09ouXEYE",
        "outputId": "17fe76dd-deb0-402a-f599-3d2e12d48760"
      },
      "source": [
        "####  multi label -softmax \n",
        "# build y\n",
        "categ = 'season'\n",
        "Y3 = np.array(df_onehot[categ].cat.codes)\n",
        "Y3 = to_categorical(Y3)\n",
        "\n",
        "print('y shape:',Y3.shape,'x shape:', X.shape)\n",
        "\n",
        "X_train3, X_test3, Y_train3, Y_test3 = train_test_split(X, Y3, test_size=0.2)\n",
        "print(f\"train_X: {X_train3.shape}, test_X = {X_test3.shape}\")"
      ],
      "execution_count": 192,
      "outputs": [
        {
          "output_type": "stream",
          "text": [
            "y shape: (8870, 4) x shape: (8870, 80, 60, 3)\n",
            "train_X: (7096, 80, 60, 3), test_X = (1774, 80, 60, 3)\n"
          ],
          "name": "stdout"
        }
      ]
    },
    {
      "cell_type": "code",
      "metadata": {
        "colab": {
          "base_uri": "https://localhost:8080/"
        },
        "id": "LaA9T9vvXJgW",
        "outputId": "4c436da3-dd17-4219-9ce3-35016d463114"
      },
      "source": [
        "model3 = Sequential([\n",
        "    Conv2D(filters=32, kernel_size=(5, 5), activation=\"relu\", input_shape=(80,60,3)),\n",
        "    MaxPooling2D(pool_size=(2, 2)),\n",
        "    Dropout(0.25),\n",
        "    Conv2D(filters=64, kernel_size=(5, 5), activation='relu'),\n",
        "    MaxPooling2D(pool_size=(2, 2)),\n",
        "    Dropout(0.25),\n",
        "    Conv2D(filters=64, kernel_size=(5, 5), activation='relu'),\n",
        "    MaxPooling2D(pool_size=(2, 2)),\n",
        "    Dropout(0.25),\n",
        "\n",
        "    Conv2D(filters=64, kernel_size=(2, 2), activation='relu'),\n",
        "    MaxPooling2D(pool_size=(2, 2)),\n",
        "    Dropout(0.25),\n",
        "\n",
        "    Flatten(),\n",
        "    Dense(64, activation='relu'),\n",
        "    Dropout(0.5),\n",
        "    Dense(32, activation='relu'),\n",
        "    Dense(4, activation='softmax')])\n",
        "\n",
        "model3.compile(optimizer = 'rmsprop',loss = 'categorical_crossentropy', metrics = ['accuracy'])\n",
        "\n",
        "model3.summary()"
      ],
      "execution_count": 195,
      "outputs": [
        {
          "output_type": "stream",
          "text": [
            "Model: \"sequential_58\"\n",
            "_________________________________________________________________\n",
            "Layer (type)                 Output Shape              Param #   \n",
            "=================================================================\n",
            "conv2d_238 (Conv2D)          (None, 76, 56, 32)        2432      \n",
            "_________________________________________________________________\n",
            "max_pooling2d_195 (MaxPoolin (None, 38, 28, 32)        0         \n",
            "_________________________________________________________________\n",
            "dropout_216 (Dropout)        (None, 38, 28, 32)        0         \n",
            "_________________________________________________________________\n",
            "conv2d_239 (Conv2D)          (None, 34, 24, 64)        51264     \n",
            "_________________________________________________________________\n",
            "max_pooling2d_196 (MaxPoolin (None, 17, 12, 64)        0         \n",
            "_________________________________________________________________\n",
            "dropout_217 (Dropout)        (None, 17, 12, 64)        0         \n",
            "_________________________________________________________________\n",
            "conv2d_240 (Conv2D)          (None, 13, 8, 64)         102464    \n",
            "_________________________________________________________________\n",
            "max_pooling2d_197 (MaxPoolin (None, 6, 4, 64)          0         \n",
            "_________________________________________________________________\n",
            "dropout_218 (Dropout)        (None, 6, 4, 64)          0         \n",
            "_________________________________________________________________\n",
            "conv2d_241 (Conv2D)          (None, 5, 3, 64)          16448     \n",
            "_________________________________________________________________\n",
            "max_pooling2d_198 (MaxPoolin (None, 2, 1, 64)          0         \n",
            "_________________________________________________________________\n",
            "dropout_219 (Dropout)        (None, 2, 1, 64)          0         \n",
            "_________________________________________________________________\n",
            "flatten_42 (Flatten)         (None, 128)               0         \n",
            "_________________________________________________________________\n",
            "dense_143 (Dense)            (None, 64)                8256      \n",
            "_________________________________________________________________\n",
            "dropout_220 (Dropout)        (None, 64)                0         \n",
            "_________________________________________________________________\n",
            "dense_144 (Dense)            (None, 32)                2080      \n",
            "_________________________________________________________________\n",
            "dense_145 (Dense)            (None, 4)                 132       \n",
            "=================================================================\n",
            "Total params: 183,076\n",
            "Trainable params: 183,076\n",
            "Non-trainable params: 0\n",
            "_________________________________________________________________\n"
          ],
          "name": "stdout"
        }
      ]
    },
    {
      "cell_type": "code",
      "metadata": {
        "colab": {
          "base_uri": "https://localhost:8080/"
        },
        "id": "3wgLkrolXOdo",
        "outputId": "f0c7f05a-de71-43d1-f7ec-3fd362c70b21"
      },
      "source": [
        "results3 = model3.fit(X_train3, Y_train3, \n",
        "          epochs=10, \n",
        "          batch_size = 64,\n",
        "          validation_data=(X_test3, Y_test3))"
      ],
      "execution_count": 196,
      "outputs": [
        {
          "output_type": "stream",
          "text": [
            "Epoch 1/10\n",
            "111/111 [==============================] - 88s 795ms/step - loss: 1.1754 - accuracy: 0.3973 - val_loss: 1.1000 - val_accuracy: 0.5158\n",
            "Epoch 2/10\n",
            "111/111 [==============================] - 89s 798ms/step - loss: 1.0318 - accuracy: 0.5307 - val_loss: 0.9227 - val_accuracy: 0.5868\n",
            "Epoch 3/10\n",
            "111/111 [==============================] - 88s 794ms/step - loss: 0.9372 - accuracy: 0.5909 - val_loss: 0.8496 - val_accuracy: 0.6342\n",
            "Epoch 4/10\n",
            "111/111 [==============================] - 88s 792ms/step - loss: 0.8742 - accuracy: 0.6237 - val_loss: 0.9978 - val_accuracy: 0.5327\n",
            "Epoch 5/10\n",
            "111/111 [==============================] - 88s 790ms/step - loss: 0.8333 - accuracy: 0.6313 - val_loss: 0.7871 - val_accuracy: 0.6742\n",
            "Epoch 6/10\n",
            "111/111 [==============================] - 88s 792ms/step - loss: 0.8044 - accuracy: 0.6497 - val_loss: 0.7561 - val_accuracy: 0.6855\n",
            "Epoch 7/10\n",
            "111/111 [==============================] - 88s 790ms/step - loss: 0.7913 - accuracy: 0.6609 - val_loss: 0.7406 - val_accuracy: 0.6945\n",
            "Epoch 8/10\n",
            "111/111 [==============================] - 88s 791ms/step - loss: 0.7682 - accuracy: 0.6670 - val_loss: 0.7430 - val_accuracy: 0.6984\n",
            "Epoch 9/10\n",
            "111/111 [==============================] - 88s 795ms/step - loss: 0.7572 - accuracy: 0.6685 - val_loss: 0.7252 - val_accuracy: 0.7041\n",
            "Epoch 10/10\n",
            "111/111 [==============================] - 89s 802ms/step - loss: 0.7462 - accuracy: 0.6835 - val_loss: 0.7224 - val_accuracy: 0.7001\n"
          ],
          "name": "stdout"
        }
      ]
    },
    {
      "cell_type": "code",
      "metadata": {
        "colab": {
          "base_uri": "https://localhost:8080/",
          "height": 350
        },
        "id": "_Jtu7n8iXTSr",
        "outputId": "91047fc6-562a-4947-926d-3d3e9f12e705"
      },
      "source": [
        "print(\"multi class test\",np.around(np.array(results3.history[\"accuracy\"]), 2))\n",
        "print(\"multi class val\",np.around(np.array(results3.history[\"val_accuracy\"]), 2))\n",
        "print(\"multi label test\",np.around(np.array(results2.history[\"accuracy\"]), 2))\n",
        "print(\"multi label val\",np.around(np.array(results2.history[\"val_accuracy\"]), 2))\n",
        "plt.plot(results3.history[\"accuracy\"])\n",
        "plt.plot(results3.history[\"val_accuracy\"])\n",
        "plt.plot(results2.history[\"accuracy\"])\n",
        "plt.plot(results2.history[\"val_accuracy\"])\n",
        "plt.legend(labels=[\"train1\", \"val1\",\"train1\", \"val2\"])"
      ],
      "execution_count": 197,
      "outputs": [
        {
          "output_type": "stream",
          "text": [
            "multi class test [0.4  0.53 0.59 0.62 0.63 0.65 0.66 0.67 0.67 0.68]\n",
            "multi class val [0.52 0.59 0.63 0.53 0.67 0.69 0.69 0.7  0.7  0.7 ]\n",
            "multi label test [0.4  0.43 0.52 0.56 0.6  0.61 0.63 0.64 0.65 0.66]\n",
            "multi label val [0.4  0.48 0.54 0.58 0.59 0.62 0.61 0.62 0.64 0.65]\n"
          ],
          "name": "stdout"
        },
        {
          "output_type": "execute_result",
          "data": {
            "text/plain": [
              "<matplotlib.legend.Legend at 0x7ff9281c6e80>"
            ]
          },
          "metadata": {
            "tags": []
          },
          "execution_count": 197
        },
        {
          "output_type": "display_data",
          "data": {
            "image/png": "[encoded data removed]",
            "text/plain": [
              "<Figure size 432x288 with 1 Axes>"
            ]
          },
          "metadata": {
            "tags": [],
            "needs_background": "light"
          }
        }
      ]
    },
    {
      "cell_type": "code",
      "metadata": {
        "id": "FWHlhRsUX1AF"
      },
      "source": [
        ""
      ],
      "execution_count": null,
      "outputs": []
    },
    {
      "cell_type": "markdown",
      "metadata": {
        "id": "3_w1AglZXVvR"
      },
      "source": [
        "# gender"
      ]
    },
    {
      "cell_type": "code",
      "metadata": {
        "colab": {
          "base_uri": "https://localhost:8080/"
        },
        "id": "3gOJeDo0nbjR",
        "outputId": "3ae80951-1606-436f-e419-7449a5b49ad0"
      },
      "source": [
        "categ = ['gender_Girls',\n",
        "       'gender_Men', 'gender_Unisex', 'gender_Women']\n",
        "\n",
        "\n",
        "Y2 = df_onehot[categ]\n",
        "Y2.loc[Y2.gender_Unisex==1,['gender_Men', 'gender_Women']] = 1\n",
        "Y2 = np.array(Y2[ ['gender_Girls',\n",
        "       'gender_Men', 'gender_Women']])\n",
        "\n",
        "print('y shape:',Y2.shape,'x shape:', X.shape)"
      ],
      "execution_count": 183,
      "outputs": [
        {
          "output_type": "stream",
          "text": [
            "y shape: (8870, 3) x shape: (8870, 80, 60, 3)\n"
          ],
          "name": "stdout"
        },
        {
          "output_type": "stream",
          "text": [
            "/usr/local/lib/python3.6/dist-packages/pandas/core/indexing.py:670: SettingWithCopyWarning: \n",
            "A value is trying to be set on a copy of a slice from a DataFrame\n",
            "\n",
            "See the caveats in the documentation: https://pandas.pydata.org/pandas-docs/stable/user_guide/indexing.html#returning-a-view-versus-a-copy\n",
            "  iloc._setitem_with_indexer(indexer, value)\n",
            "/usr/local/lib/python3.6/dist-packages/ipykernel_launcher.py:7: SettingWithCopyWarning: \n",
            "A value is trying to be set on a copy of a slice from a DataFrame\n",
            "\n",
            "See the caveats in the documentation: https://pandas.pydata.org/pandas-docs/stable/user_guide/indexing.html#returning-a-view-versus-a-copy\n",
            "  import sys\n"
          ],
          "name": "stderr"
        }
      ]
    },
    {
      "cell_type": "code",
      "metadata": {
        "id": "gj7dg3r9oiEL"
      },
      "source": [
        "categ = ['gender_Girls',\n",
        "       'gender_Men', 'gender_Unisex', 'gender_Women']\n",
        "\n",
        "Y2 = np.array(df_onehot[categ])\n",
        "\n",
        "print('y shape:',Y2.shape,'x shape:', X.shape)"
      ],
      "execution_count": null,
      "outputs": []
    },
    {
      "cell_type": "code",
      "metadata": {
        "colab": {
          "base_uri": "https://localhost:8080/"
        },
        "id": "gRDcVYdNXW67",
        "outputId": "08486aa8-2cd9-480e-e06a-1e560acf8eb0"
      },
      "source": [
        "# build sigmiod\n",
        "\n",
        "\n",
        "X_train2, X_test2, Y_train2, Y_test2 = train_test_split(X, Y2, test_size=0.2)\n",
        "print(f\"train_X: {X_train2.shape}, test_X = {X_test2.shape}\")\n",
        "\n",
        "\n",
        "model2 = Sequential([\n",
        "    Conv2D(filters=32, kernel_size=(5, 5), activation=\"relu\", input_shape=(80,60,3)),\n",
        "    MaxPooling2D(pool_size=(2, 2)),\n",
        "    Dropout(0.25),\n",
        "    Conv2D(filters=64, kernel_size=(5, 5), activation='relu'),\n",
        "    MaxPooling2D(pool_size=(2, 2)),\n",
        "    Dropout(0.25),\n",
        "    Conv2D(filters=64, kernel_size=(5, 5), activation='relu'),\n",
        "    MaxPooling2D(pool_size=(2, 2)),\n",
        "    Dropout(0.25),\n",
        "\n",
        "    Conv2D(filters=64, kernel_size=(2, 2), activation='relu'),\n",
        "    MaxPooling2D(pool_size=(2, 2)),\n",
        "    Dropout(0.25),\n",
        "\n",
        "    Flatten(),\n",
        "    Dense(32, activation='relu'),\n",
        "    Dropout(0.5),\n",
        "    Dense(16, activation='relu'),\n",
        "    Dense(8, activation='relu'),\n",
        "    Dense(3, activation='sigmoid')])\n",
        "\n",
        "model2.compile(optimizer='adam', loss='binary_crossentropy', metrics=['accuracy'])\n",
        "model2.summary()\n",
        "\n",
        "results2 = model2.fit(X_train2, Y_train2, \n",
        "          epochs=10, \n",
        "          batch_size = 64,\n",
        "          validation_data=(X_test2, Y_test2))"
      ],
      "execution_count": 184,
      "outputs": [
        {
          "output_type": "stream",
          "text": [
            "train_X: (7096, 80, 60, 3), test_X = (1774, 80, 60, 3)\n",
            "Model: \"sequential_53\"\n",
            "_________________________________________________________________\n",
            "Layer (type)                 Output Shape              Param #   \n",
            "=================================================================\n",
            "conv2d_218 (Conv2D)          (None, 76, 56, 32)        2432      \n",
            "_________________________________________________________________\n",
            "max_pooling2d_175 (MaxPoolin (None, 38, 28, 32)        0         \n",
            "_________________________________________________________________\n",
            "dropout_191 (Dropout)        (None, 38, 28, 32)        0         \n",
            "_________________________________________________________________\n",
            "conv2d_219 (Conv2D)          (None, 34, 24, 64)        51264     \n",
            "_________________________________________________________________\n",
            "max_pooling2d_176 (MaxPoolin (None, 17, 12, 64)        0         \n",
            "_________________________________________________________________\n",
            "dropout_192 (Dropout)        (None, 17, 12, 64)        0         \n",
            "_________________________________________________________________\n",
            "conv2d_220 (Conv2D)          (None, 13, 8, 64)         102464    \n",
            "_________________________________________________________________\n",
            "max_pooling2d_177 (MaxPoolin (None, 6, 4, 64)          0         \n",
            "_________________________________________________________________\n",
            "dropout_193 (Dropout)        (None, 6, 4, 64)          0         \n",
            "_________________________________________________________________\n",
            "conv2d_221 (Conv2D)          (None, 5, 3, 64)          16448     \n",
            "_________________________________________________________________\n",
            "max_pooling2d_178 (MaxPoolin (None, 2, 1, 64)          0         \n",
            "_________________________________________________________________\n",
            "dropout_194 (Dropout)        (None, 2, 1, 64)          0         \n",
            "_________________________________________________________________\n",
            "flatten_37 (Flatten)         (None, 128)               0         \n",
            "_________________________________________________________________\n",
            "dense_124 (Dense)            (None, 32)                4128      \n",
            "_________________________________________________________________\n",
            "dropout_195 (Dropout)        (None, 32)                0         \n",
            "_________________________________________________________________\n",
            "dense_125 (Dense)            (None, 16)                528       \n",
            "_________________________________________________________________\n",
            "dense_126 (Dense)            (None, 8)                 136       \n",
            "_________________________________________________________________\n",
            "dense_127 (Dense)            (None, 3)                 27        \n",
            "=================================================================\n",
            "Total params: 177,427\n",
            "Trainable params: 177,427\n",
            "Non-trainable params: 0\n",
            "_________________________________________________________________\n",
            "Epoch 1/10\n",
            "111/111 [==============================] - 88s 791ms/step - loss: 0.5452 - accuracy: 0.4721 - val_loss: 0.5083 - val_accuracy: 0.4538\n",
            "Epoch 2/10\n",
            "111/111 [==============================] - 88s 792ms/step - loss: 0.4982 - accuracy: 0.4987 - val_loss: 0.4717 - val_accuracy: 0.5699\n",
            "Epoch 3/10\n",
            "111/111 [==============================] - 88s 792ms/step - loss: 0.4398 - accuracy: 0.6535 - val_loss: 0.3779 - val_accuracy: 0.7559\n",
            "Epoch 4/10\n",
            "111/111 [==============================] - 88s 795ms/step - loss: 0.3586 - accuracy: 0.7565 - val_loss: 0.3090 - val_accuracy: 0.7807\n",
            "Epoch 5/10\n",
            "111/111 [==============================] - 88s 794ms/step - loss: 0.3187 - accuracy: 0.7969 - val_loss: 0.2993 - val_accuracy: 0.7847\n",
            "Epoch 6/10\n",
            "111/111 [==============================] - 89s 801ms/step - loss: 0.2932 - accuracy: 0.8182 - val_loss: 0.2667 - val_accuracy: 0.8191\n",
            "Epoch 7/10\n",
            "111/111 [==============================] - 90s 808ms/step - loss: 0.2756 - accuracy: 0.8267 - val_loss: 0.2592 - val_accuracy: 0.8258\n",
            "Epoch 8/10\n",
            "111/111 [==============================] - 89s 797ms/step - loss: 0.2643 - accuracy: 0.8307 - val_loss: 0.2512 - val_accuracy: 0.8286\n",
            "Epoch 9/10\n",
            "111/111 [==============================] - 87s 788ms/step - loss: 0.2530 - accuracy: 0.8447 - val_loss: 0.2502 - val_accuracy: 0.8343\n",
            "Epoch 10/10\n",
            "111/111 [==============================] - 87s 788ms/step - loss: 0.2415 - accuracy: 0.8489 - val_loss: 0.2322 - val_accuracy: 0.8489\n"
          ],
          "name": "stdout"
        }
      ]
    },
    {
      "cell_type": "code",
      "metadata": {
        "colab": {
          "base_uri": "https://localhost:8080/"
        },
        "id": "ewkd8uerXoet",
        "outputId": "276bac7a-5c3f-4c73-84df-c03d1776eac5"
      },
      "source": [
        "####  multi label -softmax \n",
        "# build y\n",
        "categ = 'gender'\n",
        "Y3 = np.array(df_onehot[categ].cat.codes)\n",
        "Y3 = to_categorical(Y3)\n",
        "\n",
        "print('y shape:',Y3.shape,'x shape:', X.shape)\n",
        "\n",
        "X_train3, X_test3, Y_train3, Y_test3 = train_test_split(X, Y3, test_size=0.2)\n",
        "print(f\"train_X: {X_train3.shape}, test_X = {X_test3.shape}\")\n",
        "\n",
        "\n",
        "model3 = Sequential([\n",
        "    Conv2D(filters=32, kernel_size=(5, 5), activation=\"relu\", input_shape=(80,60,3)),\n",
        "    MaxPooling2D(pool_size=(2, 2)),\n",
        "    Dropout(0.25),\n",
        "    Conv2D(filters=64, kernel_size=(5, 5), activation='relu'),\n",
        "    MaxPooling2D(pool_size=(2, 2)),\n",
        "    Dropout(0.25),\n",
        "    Conv2D(filters=64, kernel_size=(5, 5), activation='relu'),\n",
        "    MaxPooling2D(pool_size=(2, 2)),\n",
        "    Dropout(0.25),\n",
        "\n",
        "    Conv2D(filters=64, kernel_size=(2, 2), activation='relu'),\n",
        "    MaxPooling2D(pool_size=(2, 2)),\n",
        "    Dropout(0.25),\n",
        "\n",
        "    Flatten(),\n",
        "    Dense(32, activation='relu'),\n",
        "    Dropout(0.5),\n",
        "    Dense(16, activation='relu'),\n",
        "    Dense(8, activation='relu'),\n",
        "    Dense(5, activation='softmax')])\n",
        "\n",
        "model3.compile(optimizer = 'rmsprop',loss = 'categorical_crossentropy', metrics = ['accuracy'])\n",
        "#model3.summary()\n",
        "results3 = model3.fit(X_train3, Y_train3, \n",
        "          epochs=10, \n",
        "          batch_size = 64,\n",
        "          validation_data=(X_test3, Y_test3))\n"
      ],
      "execution_count": 188,
      "outputs": [
        {
          "output_type": "stream",
          "text": [
            "y shape: (8870, 5) x shape: (8870, 80, 60, 3)\n",
            "train_X: (7096, 80, 60, 3), test_X = (1774, 80, 60, 3)\n",
            "Epoch 1/10\n",
            "111/111 [==============================] - 88s 793ms/step - loss: 1.2622 - accuracy: 0.4085 - val_loss: 1.1693 - val_accuracy: 0.4724\n",
            "Epoch 2/10\n",
            "111/111 [==============================] - 88s 790ms/step - loss: 1.0913 - accuracy: 0.4642 - val_loss: 1.0021 - val_accuracy: 0.4741\n",
            "Epoch 3/10\n",
            "111/111 [==============================] - 88s 792ms/step - loss: 0.9394 - accuracy: 0.5686 - val_loss: 0.8261 - val_accuracy: 0.6122\n",
            "Epoch 4/10\n",
            "111/111 [==============================] - 88s 796ms/step - loss: 0.8130 - accuracy: 0.6733 - val_loss: 0.7211 - val_accuracy: 0.7525\n",
            "Epoch 5/10\n",
            "111/111 [==============================] - 88s 792ms/step - loss: 0.7273 - accuracy: 0.7201 - val_loss: 0.7389 - val_accuracy: 0.7492\n",
            "Epoch 6/10\n",
            "111/111 [==============================] - 88s 789ms/step - loss: 0.6795 - accuracy: 0.7565 - val_loss: 0.6081 - val_accuracy: 0.7835\n",
            "Epoch 7/10\n",
            "111/111 [==============================] - 88s 791ms/step - loss: 0.6475 - accuracy: 0.7676 - val_loss: 0.5909 - val_accuracy: 0.7830\n",
            "Epoch 8/10\n",
            "111/111 [==============================] - 88s 789ms/step - loss: 0.6011 - accuracy: 0.7876 - val_loss: 0.5652 - val_accuracy: 0.7976\n",
            "Epoch 9/10\n",
            "111/111 [==============================] - 87s 787ms/step - loss: 0.5783 - accuracy: 0.8044 - val_loss: 0.5973 - val_accuracy: 0.7818\n",
            "Epoch 10/10\n",
            "111/111 [==============================] - 88s 789ms/step - loss: 0.5506 - accuracy: 0.8114 - val_loss: 0.6646 - val_accuracy: 0.7503\n"
          ],
          "name": "stdout"
        }
      ]
    },
    {
      "cell_type": "code",
      "metadata": {
        "colab": {
          "base_uri": "https://localhost:8080/",
          "height": 350
        },
        "id": "YKbYErsIX2Uq",
        "outputId": "9412a501-e9fa-4228-e8de-0ea3cd95b2a9"
      },
      "source": [
        "print(\"multi class test\",np.around(np.array(results3.history[\"accuracy\"]), 2))\n",
        "print(\"multi class val\",np.around(np.array(results3.history[\"val_accuracy\"]), 2))\n",
        "print(\"multi label test\",np.around(np.array(results2.history[\"accuracy\"]), 2))\n",
        "print(\"multi label val\",np.around(np.array(results2.history[\"val_accuracy\"]), 2))\n",
        "plt.plot(results3.history[\"accuracy\"])\n",
        "plt.plot(results3.history[\"val_accuracy\"])\n",
        "plt.plot(results2.history[\"accuracy\"])\n",
        "plt.plot(results2.history[\"val_accuracy\"])\n",
        "plt.legend(labels=[\"train1\", \"val1\",\"train1\", \"val2\"])"
      ],
      "execution_count": 189,
      "outputs": [
        {
          "output_type": "stream",
          "text": [
            "multi class test [0.41 0.46 0.57 0.67 0.72 0.76 0.77 0.79 0.8  0.81]\n",
            "multi class val [0.47 0.47 0.61 0.75 0.75 0.78 0.78 0.8  0.78 0.75]\n",
            "multi label test [0.47 0.5  0.65 0.76 0.8  0.82 0.83 0.83 0.84 0.85]\n",
            "multi label val [0.45 0.57 0.76 0.78 0.78 0.82 0.83 0.83 0.83 0.85]\n"
          ],
          "name": "stdout"
        },
        {
          "output_type": "execute_result",
          "data": {
            "text/plain": [
              "<matplotlib.legend.Legend at 0x7ff927e45f98>"
            ]
          },
          "metadata": {
            "tags": []
          },
          "execution_count": 189
        },
        {
          "output_type": "display_data",
          "data": {
            "image/png": "[encoded data removed]",
            "text/plain": [
              "<Figure size 432x288 with 1 Axes>"
            ]
          },
          "metadata": {
            "tags": [],
            "needs_background": "light"
          }
        }
      ]
    },
    {
      "cell_type": "code",
      "metadata": {
        "id": "8aHJW5Nh26dK"
      },
      "source": [
        "a= '[0.41 0.46 0.57 0.67 0.72 0.76 0.77 0.79 0.8  0.81]'\n",
        "b= '[0.47 0.47 0.61 0.75 0.75 0.78 0.78 0.8  0.78 0.75]'\n",
        "c= '[0.47 0.5  0.65 0.76 0.8  0.82 0.83 0.83 0.84 0.85]'\n",
        "d= '[0.45 0.57 0.76 0.78 0.78 0.82 0.83 0.83 0.83 0.85]'\n",
        "print(a.replace(\" \", \",\"))  \n",
        "print(b.replace(\" \", \",\"))  \n",
        "print(c.replace(\" \", \",\"))  \n",
        "print(d.replace(\" \", \",\"))  \n",
        "\n"
      ],
      "execution_count": null,
      "outputs": []
    },
    {
      "cell_type": "code",
      "metadata": {
        "id": "nZ8u7Cx835zA"
      },
      "source": [
        "a=\n",
        "b=\n",
        "c=\n",
        "d=\n",
        "plt.plot(c)\n",
        "plt.plot(d)\n",
        "plt.plot(a)\n",
        "plt.plot(b)\n",
        "plt.legend(labels=[\"train1\", \"val1\",\"train1\", \"val2\"])"
      ],
      "execution_count": null,
      "outputs": []
    },
    {
      "cell_type": "markdown",
      "metadata": {
        "id": "NmxnxV00X3nv"
      },
      "source": [
        "# usage"
      ]
    },
    {
      "cell_type": "code",
      "metadata": {
        "colab": {
          "base_uri": "https://localhost:8080/"
        },
        "id": "3lF5NlT819Xn",
        "outputId": "fc9c80b6-ef23-4930-dbb6-31400c1875b6"
      },
      "source": [
        "# build sigmiod\n",
        "from keras.utils import normalize, to_categorical\n",
        "categ = ['usage_Ethnic', 'usage_Formal',\n",
        "       'usage_Party', 'usage_Smart Casual', 'usage_Sports', 'usage_Travel']\n",
        "Y2 = np.array(df_onehot[categ])\n",
        "print('y shape:',Y2.shape,'x shape:', X.shape)\n",
        "\n",
        "X_train2, X_test2, Y_train2, Y_test2 = train_test_split(X, Y2, test_size=0.2)\n",
        "print(f\"train_X: {X_train2.shape}, test_X = {X_test2.shape}\")\n"
      ],
      "execution_count": 198,
      "outputs": [
        {
          "output_type": "stream",
          "text": [
            "y shape: (8870, 6) x shape: (8870, 80, 60, 3)\n",
            "train_X: (7096, 80, 60, 3), test_X = (1774, 80, 60, 3)\n"
          ],
          "name": "stdout"
        }
      ]
    },
    {
      "cell_type": "code",
      "metadata": {
        "colab": {
          "base_uri": "https://localhost:8080/"
        },
        "id": "SvRSFndbX6GQ",
        "outputId": "98879aa0-cb2b-4e8b-9238-75130cee7709"
      },
      "source": [
        "\n",
        "\n",
        "model2 = Sequential([\n",
        "    Conv2D(filters=32, kernel_size=(5, 5), activation=\"relu\", input_shape=(80,60,3)),\n",
        "    MaxPooling2D(pool_size=(2, 2)),\n",
        "    Dropout(0.25),\n",
        "    Conv2D(filters=64, kernel_size=(5, 5), activation='relu'),\n",
        "    MaxPooling2D(pool_size=(2, 2)),\n",
        "    Dropout(0.25),\n",
        "    Conv2D(filters=64, kernel_size=(5, 5), activation='relu'),\n",
        "    MaxPooling2D(pool_size=(2, 2)),\n",
        "    Dropout(0.25),\n",
        "\n",
        "    Conv2D(filters=64, kernel_size=(2, 2), activation='relu'),\n",
        "    MaxPooling2D(pool_size=(2, 2)),\n",
        "    Dropout(0.25),\n",
        "\n",
        "    Flatten(),\n",
        "    Dense(32, activation='relu'),\n",
        "    Dropout(0.5),\n",
        "    Dense(16, activation='relu'),\n",
        "    Dense(8, activation='relu'),\n",
        "    Dense(6, activation='sigmoid')])\n",
        "\n",
        "model2.compile(optimizer='adam', loss='binary_crossentropy', metrics=['accuracy'])\n",
        "model2.summary()\n",
        "\n"
      ],
      "execution_count": 199,
      "outputs": [
        {
          "output_type": "stream",
          "text": [
            "Model: \"sequential_59\"\n",
            "_________________________________________________________________\n",
            "Layer (type)                 Output Shape              Param #   \n",
            "=================================================================\n",
            "conv2d_242 (Conv2D)          (None, 76, 56, 32)        2432      \n",
            "_________________________________________________________________\n",
            "max_pooling2d_199 (MaxPoolin (None, 38, 28, 32)        0         \n",
            "_________________________________________________________________\n",
            "dropout_221 (Dropout)        (None, 38, 28, 32)        0         \n",
            "_________________________________________________________________\n",
            "conv2d_243 (Conv2D)          (None, 34, 24, 64)        51264     \n",
            "_________________________________________________________________\n",
            "max_pooling2d_200 (MaxPoolin (None, 17, 12, 64)        0         \n",
            "_________________________________________________________________\n",
            "dropout_222 (Dropout)        (None, 17, 12, 64)        0         \n",
            "_________________________________________________________________\n",
            "conv2d_244 (Conv2D)          (None, 13, 8, 64)         102464    \n",
            "_________________________________________________________________\n",
            "max_pooling2d_201 (MaxPoolin (None, 6, 4, 64)          0         \n",
            "_________________________________________________________________\n",
            "dropout_223 (Dropout)        (None, 6, 4, 64)          0         \n",
            "_________________________________________________________________\n",
            "conv2d_245 (Conv2D)          (None, 5, 3, 64)          16448     \n",
            "_________________________________________________________________\n",
            "max_pooling2d_202 (MaxPoolin (None, 2, 1, 64)          0         \n",
            "_________________________________________________________________\n",
            "dropout_224 (Dropout)        (None, 2, 1, 64)          0         \n",
            "_________________________________________________________________\n",
            "flatten_43 (Flatten)         (None, 128)               0         \n",
            "_________________________________________________________________\n",
            "dense_146 (Dense)            (None, 32)                4128      \n",
            "_________________________________________________________________\n",
            "dropout_225 (Dropout)        (None, 32)                0         \n",
            "_________________________________________________________________\n",
            "dense_147 (Dense)            (None, 16)                528       \n",
            "_________________________________________________________________\n",
            "dense_148 (Dense)            (None, 8)                 136       \n",
            "_________________________________________________________________\n",
            "dense_149 (Dense)            (None, 6)                 54        \n",
            "=================================================================\n",
            "Total params: 177,454\n",
            "Trainable params: 177,454\n",
            "Non-trainable params: 0\n",
            "_________________________________________________________________\n"
          ],
          "name": "stdout"
        }
      ]
    },
    {
      "cell_type": "code",
      "metadata": {
        "colab": {
          "base_uri": "https://localhost:8080/"
        },
        "id": "Xr3tXnt8172U",
        "outputId": "56e4bc2c-2d55-4a3d-9d8d-c472a7cbacaa"
      },
      "source": [
        "results2 = model2.fit(X_train2, Y_train2, \n",
        "          epochs=10, \n",
        "          batch_size = 64,\n",
        "          validation_data=(X_test2, Y_test2))"
      ],
      "execution_count": 200,
      "outputs": [
        {
          "output_type": "stream",
          "text": [
            "Epoch 1/10\n",
            "111/111 [==============================] - 89s 799ms/step - loss: 0.6146 - accuracy: 0.1477 - val_loss: 0.5543 - val_accuracy: 0.1426\n",
            "Epoch 2/10\n",
            "111/111 [==============================] - 88s 792ms/step - loss: 0.4308 - accuracy: 0.1473 - val_loss: 0.3354 - val_accuracy: 0.1426\n",
            "Epoch 3/10\n",
            "111/111 [==============================] - 88s 795ms/step - loss: 0.2355 - accuracy: 0.1473 - val_loss: 0.1305 - val_accuracy: 0.1426\n",
            "Epoch 4/10\n",
            "111/111 [==============================] - 88s 793ms/step - loss: 0.1161 - accuracy: 0.1487 - val_loss: 0.0837 - val_accuracy: 0.1640\n",
            "Epoch 5/10\n",
            "111/111 [==============================] - 88s 794ms/step - loss: 0.0924 - accuracy: 0.1597 - val_loss: 0.0996 - val_accuracy: 0.1691\n",
            "Epoch 6/10\n",
            "111/111 [==============================] - 88s 795ms/step - loss: 0.0786 - accuracy: 0.1681 - val_loss: 0.0710 - val_accuracy: 0.1708\n",
            "Epoch 7/10\n",
            "111/111 [==============================] - 89s 802ms/step - loss: 0.0684 - accuracy: 0.1705 - val_loss: 0.0625 - val_accuracy: 0.1719\n",
            "Epoch 8/10\n",
            "111/111 [==============================] - 89s 797ms/step - loss: 0.0602 - accuracy: 0.1715 - val_loss: 0.0498 - val_accuracy: 0.1753\n",
            "Epoch 9/10\n",
            "111/111 [==============================] - 89s 801ms/step - loss: 0.0538 - accuracy: 0.1733 - val_loss: 0.0425 - val_accuracy: 0.1742\n",
            "Epoch 10/10\n",
            "111/111 [==============================] - 89s 800ms/step - loss: 0.0512 - accuracy: 0.1738 - val_loss: 0.0425 - val_accuracy: 0.1764\n"
          ],
          "name": "stdout"
        }
      ]
    },
    {
      "cell_type": "code",
      "metadata": {
        "colab": {
          "base_uri": "https://localhost:8080/"
        },
        "id": "sSaH8zly16et",
        "outputId": "ae879fe4-d28a-4429-9eb6-e3989c7aba56"
      },
      "source": [
        "####  multi label -softmax \n",
        "# build y\n",
        "from keras.utils import  to_categorical\n",
        "categ = 'usage'\n",
        "Y3 = np.array(df_onehot[categ].cat.codes)\n",
        "Y3 = to_categorical(Y3)\n",
        "\n",
        "print('y shape:',Y3.shape,'x shape:', X.shape)\n",
        "\n",
        "X_train3, X_test3, Y_train3, Y_test3 = train_test_split(X, Y3, test_size=0.2)\n",
        "print(f\"train_X: {X_train3.shape}, test_X = {X_test3.shape}\")\n"
      ],
      "execution_count": 216,
      "outputs": [
        {
          "output_type": "stream",
          "text": [
            "y shape: (8870, 7) x shape: (8870, 80, 60, 3)\n",
            "train_X: (7096, 80, 60, 3), test_X = (1774, 80, 60, 3)\n"
          ],
          "name": "stdout"
        }
      ]
    },
    {
      "cell_type": "code",
      "metadata": {
        "id": "qi5Dk7ROYJ1_"
      },
      "source": [
        "\n",
        "\n",
        "model3 = Sequential([\n",
        "    Conv2D(filters=32, kernel_size=(5, 5), activation=\"relu\", input_shape=(80,60,3)),\n",
        "    MaxPooling2D(pool_size=(2, 2)),\n",
        "    Dropout(0.25),\n",
        "    Conv2D(filters=64, kernel_size=(5, 5), activation='relu'),\n",
        "    MaxPooling2D(pool_size=(2, 2)),\n",
        "    Dropout(0.25),\n",
        "    Conv2D(filters=64, kernel_size=(5, 5), activation='relu'),\n",
        "    MaxPooling2D(pool_size=(2, 2)),\n",
        "    Dropout(0.25),\n",
        "\n",
        "    Conv2D(filters=64, kernel_size=(2, 2), activation='relu'),\n",
        "    MaxPooling2D(pool_size=(2, 2)),\n",
        "    Dropout(0.25),\n",
        "\n",
        "    Flatten(),\n",
        "    Dense(64, activation='relu'),\n",
        "    Dropout(0.5),\n",
        "    Dense(32, activation='relu'),\n",
        "    Dense(7, activation='softmax')])\n",
        "\n",
        "model3.compile(optimizer = 'rmsprop',loss = 'categorical_crossentropy', metrics = ['accuracy'])\n",
        "\n",
        "model3.summary()\n",
        "\n"
      ],
      "execution_count": null,
      "outputs": []
    },
    {
      "cell_type": "code",
      "metadata": {
        "colab": {
          "base_uri": "https://localhost:8080/"
        },
        "id": "meJR6xnW14yR",
        "outputId": "dd051684-be29-464d-c78d-bbce97345585"
      },
      "source": [
        "results3 = model3.fit(X_train3, Y_train3, \n",
        "          epochs=10, \n",
        "          batch_size = 64,\n",
        "          validation_data=(X_test3, Y_test3))"
      ],
      "execution_count": 219,
      "outputs": [
        {
          "output_type": "stream",
          "text": [
            "Epoch 1/10\n",
            "111/111 [==============================] - 89s 803ms/step - loss: 0.7778 - accuracy: 0.7845 - val_loss: 0.6774 - val_accuracy: 0.8078\n",
            "Epoch 2/10\n",
            "111/111 [==============================] - 89s 803ms/step - loss: 0.6118 - accuracy: 0.8138 - val_loss: 0.6213 - val_accuracy: 0.8326\n",
            "Epoch 3/10\n",
            "111/111 [==============================] - 90s 807ms/step - loss: 0.5018 - accuracy: 0.8416 - val_loss: 0.4348 - val_accuracy: 0.8828\n",
            "Epoch 4/10\n",
            "111/111 [==============================] - 90s 806ms/step - loss: 0.4166 - accuracy: 0.8778 - val_loss: 0.3610 - val_accuracy: 0.9030\n",
            "Epoch 5/10\n",
            "111/111 [==============================] - 89s 803ms/step - loss: 0.3658 - accuracy: 0.9014 - val_loss: 0.2934 - val_accuracy: 0.9154\n",
            "Epoch 6/10\n",
            "111/111 [==============================] - 89s 804ms/step - loss: 0.3227 - accuracy: 0.9133 - val_loss: 0.3169 - val_accuracy: 0.9245\n",
            "Epoch 7/10\n",
            "111/111 [==============================] - 90s 808ms/step - loss: 0.3102 - accuracy: 0.9193 - val_loss: 0.2731 - val_accuracy: 0.9211\n",
            "Epoch 8/10\n",
            "111/111 [==============================] - 89s 803ms/step - loss: 0.2850 - accuracy: 0.9246 - val_loss: 0.3479 - val_accuracy: 0.9267\n",
            "Epoch 9/10\n",
            "111/111 [==============================] - 89s 803ms/step - loss: 0.2757 - accuracy: 0.9238 - val_loss: 0.2880 - val_accuracy: 0.9171\n",
            "Epoch 10/10\n",
            "111/111 [==============================] - 88s 797ms/step - loss: 0.2682 - accuracy: 0.9286 - val_loss: 0.2694 - val_accuracy: 0.9278\n"
          ],
          "name": "stdout"
        }
      ]
    },
    {
      "cell_type": "code",
      "metadata": {
        "colab": {
          "base_uri": "https://localhost:8080/",
          "height": 350
        },
        "id": "lkPlEh3rYUAd",
        "outputId": "cb9b5304-8faa-47d6-9721-e9e8f28e029d"
      },
      "source": [
        "print(\"multi class test\",np.around(np.array(results3.history[\"accuracy\"]), 2))\n",
        "print(\"multi class val\",np.around(np.array(results3.history[\"val_accuracy\"]), 2))\n",
        "print(\"multi label test\",np.around(np.array(results2.history[\"accuracy\"]), 2))\n",
        "print(\"multi label val\",np.around(np.array(results2.history[\"val_accuracy\"]), 2))\n",
        "plt.plot(results3.history[\"accuracy\"])\n",
        "plt.plot(results3.history[\"val_accuracy\"])\n",
        "plt.plot(results2.history[\"accuracy\"])\n",
        "plt.plot(results2.history[\"val_accuracy\"])\n",
        "plt.legend(labels=[\"train1\", \"val1\",\"train1\", \"val2\"])"
      ],
      "execution_count": 220,
      "outputs": [
        {
          "output_type": "stream",
          "text": [
            "multi class test [0.78 0.81 0.84 0.88 0.9  0.91 0.92 0.92 0.92 0.93]\n",
            "multi class val [0.81 0.83 0.88 0.9  0.92 0.92 0.92 0.93 0.92 0.93]\n",
            "multi label test [0.15 0.15 0.15 0.15 0.16 0.17 0.17 0.17 0.17 0.17]\n",
            "multi label val [0.14 0.14 0.14 0.16 0.17 0.17 0.17 0.18 0.17 0.18]\n"
          ],
          "name": "stdout"
        },
        {
          "output_type": "execute_result",
          "data": {
            "text/plain": [
              "<matplotlib.legend.Legend at 0x7ff92ab4fef0>"
            ]
          },
          "metadata": {
            "tags": []
          },
          "execution_count": 220
        },
        {
          "output_type": "display_data",
          "data": {
            "image/png": "[encoded data removed]",
            "text/plain": [
              "<Figure size 432x288 with 1 Axes>"
            ]
          },
          "metadata": {
            "tags": [],
            "needs_background": "light"
          }
        }
      ]
    },
    {
      "cell_type": "markdown",
      "metadata": {
        "id": "MlSyRL_qpuI5"
      },
      "source": [
        "# subcategory"
      ]
    },
    {
      "cell_type": "code",
      "metadata": {
        "colab": {
          "base_uri": "https://localhost:8080/"
        },
        "id": "TjG2Ia-mGH_b",
        "outputId": "239ec3b9-1978-4e76-e5bd-b67e66154a1d"
      },
      "source": [
        "# build sigmiod\n",
        "from keras.utils import normalize, to_categorical\n",
        "categ = ['subCategory_Bottomwear', 'subCategory_Eyewear',\n",
        "       'subCategory_Free Gifts', 'subCategory_Loungewear and Nightwear',\n",
        "       'subCategory_Shoes', 'subCategory_Topwear', 'subCategory_Watches',]\n",
        "Y2 = np.array(df_onehot[categ])\n",
        "print('y shape:',Y2.shape,'x shape:', X.shape)\n",
        "\n",
        "X_train2, X_test2, Y_train2, Y_test2 = train_test_split(X, Y2, test_size=0.2)\n",
        "print(f\"train_X: {X_train2.shape}, test_X = {X_test2.shape}\")\n"
      ],
      "execution_count": 221,
      "outputs": [
        {
          "output_type": "stream",
          "text": [
            "y shape: (8870, 7) x shape: (8870, 80, 60, 3)\n",
            "train_X: (7096, 80, 60, 3), test_X = (1774, 80, 60, 3)\n"
          ],
          "name": "stdout"
        }
      ]
    },
    {
      "cell_type": "code",
      "metadata": {
        "colab": {
          "base_uri": "https://localhost:8080/"
        },
        "id": "RlUtKd8KGJ8w",
        "outputId": "9248bd76-98e2-435f-dadc-18b9ba5ba8bd"
      },
      "source": [
        "model2 = Sequential([\n",
        "    Conv2D(filters=32, kernel_size=(5, 5), activation=\"relu\", input_shape=(80,60,3)),\n",
        "    MaxPooling2D(pool_size=(2, 2)),\n",
        "    Dropout(0.25),\n",
        "    Conv2D(filters=64, kernel_size=(5, 5), activation='relu'),\n",
        "    MaxPooling2D(pool_size=(2, 2)),\n",
        "    Dropout(0.25),\n",
        "    Conv2D(filters=64, kernel_size=(5, 5), activation='relu'),\n",
        "    MaxPooling2D(pool_size=(2, 2)),\n",
        "    Dropout(0.25),\n",
        "\n",
        "    Conv2D(filters=64, kernel_size=(2, 2), activation='relu'),\n",
        "    MaxPooling2D(pool_size=(2, 2)),\n",
        "    Dropout(0.25),\n",
        "\n",
        "    Flatten(),\n",
        "    Dense(32, activation='relu'),\n",
        "    Dropout(0.5),\n",
        "    Dense(16, activation='relu'),\n",
        "    Dense(7, activation='sigmoid')])\n",
        "\n",
        "model2.compile(optimizer='adam', loss='binary_crossentropy', metrics=['accuracy'])\n",
        "model2.summary()"
      ],
      "execution_count": 239,
      "outputs": [
        {
          "output_type": "stream",
          "text": [
            "Model: \"sequential_63\"\n",
            "_________________________________________________________________\n",
            "Layer (type)                 Output Shape              Param #   \n",
            "=================================================================\n",
            "conv2d_258 (Conv2D)          (None, 76, 56, 32)        2432      \n",
            "_________________________________________________________________\n",
            "max_pooling2d_215 (MaxPoolin (None, 38, 28, 32)        0         \n",
            "_________________________________________________________________\n",
            "dropout_241 (Dropout)        (None, 38, 28, 32)        0         \n",
            "_________________________________________________________________\n",
            "conv2d_259 (Conv2D)          (None, 34, 24, 64)        51264     \n",
            "_________________________________________________________________\n",
            "max_pooling2d_216 (MaxPoolin (None, 17, 12, 64)        0         \n",
            "_________________________________________________________________\n",
            "dropout_242 (Dropout)        (None, 17, 12, 64)        0         \n",
            "_________________________________________________________________\n",
            "conv2d_260 (Conv2D)          (None, 13, 8, 64)         102464    \n",
            "_________________________________________________________________\n",
            "max_pooling2d_217 (MaxPoolin (None, 6, 4, 64)          0         \n",
            "_________________________________________________________________\n",
            "dropout_243 (Dropout)        (None, 6, 4, 64)          0         \n",
            "_________________________________________________________________\n",
            "conv2d_261 (Conv2D)          (None, 5, 3, 64)          16448     \n",
            "_________________________________________________________________\n",
            "max_pooling2d_218 (MaxPoolin (None, 2, 1, 64)          0         \n",
            "_________________________________________________________________\n",
            "dropout_244 (Dropout)        (None, 2, 1, 64)          0         \n",
            "_________________________________________________________________\n",
            "flatten_47 (Flatten)         (None, 128)               0         \n",
            "_________________________________________________________________\n",
            "dense_159 (Dense)            (None, 32)                4128      \n",
            "_________________________________________________________________\n",
            "dropout_245 (Dropout)        (None, 32)                0         \n",
            "_________________________________________________________________\n",
            "dense_160 (Dense)            (None, 16)                528       \n",
            "_________________________________________________________________\n",
            "dense_161 (Dense)            (None, 7)                 119       \n",
            "=================================================================\n",
            "Total params: 177,383\n",
            "Trainable params: 177,383\n",
            "Non-trainable params: 0\n",
            "_________________________________________________________________\n"
          ],
          "name": "stdout"
        }
      ]
    },
    {
      "cell_type": "code",
      "metadata": {
        "colab": {
          "base_uri": "https://localhost:8080/"
        },
        "id": "-aEufmsiGNyW",
        "outputId": "bc55625e-4e43-440c-c82a-f31348a0fff8"
      },
      "source": [
        "results2 = model2.fit(X_train2, Y_train2, \n",
        "          epochs=10, \n",
        "          batch_size = 64,\n",
        "          validation_data=(X_test2, Y_test2))"
      ],
      "execution_count": 240,
      "outputs": [
        {
          "output_type": "stream",
          "text": [
            "Epoch 1/10\n",
            "111/111 [==============================] - 88s 794ms/step - loss: 0.5326 - accuracy: 0.1053 - val_loss: 0.3777 - val_accuracy: 0.2249\n",
            "Epoch 2/10\n",
            "111/111 [==============================] - 88s 790ms/step - loss: 0.2848 - accuracy: 0.3994 - val_loss: 0.1688 - val_accuracy: 0.6003\n",
            "Epoch 3/10\n",
            "111/111 [==============================] - 91s 816ms/step - loss: 0.1637 - accuracy: 0.6277 - val_loss: 0.0927 - val_accuracy: 0.7221\n",
            "Epoch 4/10\n",
            "111/111 [==============================] - 88s 794ms/step - loss: 0.1108 - accuracy: 0.7120 - val_loss: 0.0560 - val_accuracy: 0.7700\n",
            "Epoch 5/10\n",
            "111/111 [==============================] - 88s 795ms/step - loss: 0.0852 - accuracy: 0.7332 - val_loss: 0.0468 - val_accuracy: 0.7790\n",
            "Epoch 6/10\n",
            "111/111 [==============================] - 88s 790ms/step - loss: 0.0671 - accuracy: 0.7558 - val_loss: 0.0351 - val_accuracy: 0.7909\n",
            "Epoch 7/10\n",
            "111/111 [==============================] - 88s 789ms/step - loss: 0.0572 - accuracy: 0.7679 - val_loss: 0.0291 - val_accuracy: 0.7988\n",
            "Epoch 8/10\n",
            "111/111 [==============================] - 88s 790ms/step - loss: 0.0491 - accuracy: 0.7787 - val_loss: 0.0274 - val_accuracy: 0.8010\n",
            "Epoch 9/10\n",
            "111/111 [==============================] - 87s 788ms/step - loss: 0.0391 - accuracy: 0.7921 - val_loss: 0.0204 - val_accuracy: 0.8050\n",
            "Epoch 10/10\n",
            "111/111 [==============================] - 88s 791ms/step - loss: 0.0359 - accuracy: 0.7961 - val_loss: 0.0248 - val_accuracy: 0.8100\n"
          ],
          "name": "stdout"
        }
      ]
    },
    {
      "cell_type": "code",
      "metadata": {
        "colab": {
          "base_uri": "https://localhost:8080/"
        },
        "id": "Mqgza33Upv9f",
        "outputId": "d7684dc2-4a2e-447a-8c97-d07e5d9b53e7"
      },
      "source": [
        "####  multi label -softmax \n",
        "# build y\n",
        "from keras.utils import  to_categorical\n",
        "categ = 'subCategory'\n",
        "Y3 = np.array(df_onehot[categ].cat.codes)\n",
        "Y3 = to_categorical(Y3)\n",
        "\n",
        "print('y shape:',Y3.shape,'x shape:', X.shape)\n",
        "\n",
        "X_train3, X_test3, Y_train3, Y_test3 = train_test_split(X, Y3, test_size=0.2)\n",
        "print(f\"train_X: {X_train3.shape}, test_X = {X_test3.shape}\")\n",
        "\n",
        "\n"
      ],
      "execution_count": 235,
      "outputs": [
        {
          "output_type": "stream",
          "text": [
            "y shape: (8870, 8) x shape: (8870, 80, 60, 3)\n",
            "train_X: (7096, 80, 60, 3), test_X = (1774, 80, 60, 3)\n"
          ],
          "name": "stdout"
        }
      ]
    },
    {
      "cell_type": "code",
      "metadata": {
        "id": "IRIuHASVGQSf"
      },
      "source": [
        "model3 = Sequential([\n",
        "    Conv2D(filters=32, kernel_size=(5, 5), activation=\"relu\", input_shape=(80,60,3)),\n",
        "    MaxPooling2D(pool_size=(2, 2)),\n",
        "    Dropout(0.25),\n",
        "    Conv2D(filters=64, kernel_size=(5, 5), activation='relu'),\n",
        "    MaxPooling2D(pool_size=(2, 2)),\n",
        "    Dropout(0.25),\n",
        "    Conv2D(filters=64, kernel_size=(5, 5), activation='relu'),\n",
        "    MaxPooling2D(pool_size=(2, 2)),\n",
        "    Dropout(0.25),\n",
        "\n",
        "    Conv2D(filters=64, kernel_size=(2, 2), activation='relu'),\n",
        "    MaxPooling2D(pool_size=(2, 2)),\n",
        "    Dropout(0.25),\n",
        "\n",
        "    Flatten(),\n",
        "    Dense(64, activation='relu'),\n",
        "    Dropout(0.5),\n",
        "    Dense(32, activation='relu'),\n",
        "    Dense(8, activation='softmax')])\n",
        "\n",
        "model3.compile(optimizer = 'rmsprop',loss = 'categorical_crossentropy', metrics = ['accuracy'])\n",
        "\n",
        "model3.summary()\n"
      ],
      "execution_count": null,
      "outputs": []
    },
    {
      "cell_type": "code",
      "metadata": {
        "colab": {
          "base_uri": "https://localhost:8080/"
        },
        "id": "swi2WM8rGUST",
        "outputId": "7f11dadc-f672-43f1-ba46-eb97ac03ca2c"
      },
      "source": [
        "results3 = model3.fit(X_train3, Y_train3, \n",
        "          epochs=10, \n",
        "          batch_size = 64,\n",
        "          validation_data=(X_test3, Y_test3))"
      ],
      "execution_count": 238,
      "outputs": [
        {
          "output_type": "stream",
          "text": [
            "Epoch 1/10\n",
            "111/111 [==============================] - 89s 798ms/step - loss: 1.6351 - accuracy: 0.3492 - val_loss: 1.0339 - val_accuracy: 0.7063\n",
            "Epoch 2/10\n",
            "111/111 [==============================] - 89s 799ms/step - loss: 0.7998 - accuracy: 0.7118 - val_loss: 0.4226 - val_accuracy: 0.8529\n",
            "Epoch 3/10\n",
            "111/111 [==============================] - 90s 807ms/step - loss: 0.4818 - accuracy: 0.8341 - val_loss: 0.2739 - val_accuracy: 0.9098\n",
            "Epoch 4/10\n",
            "111/111 [==============================] - 89s 803ms/step - loss: 0.3646 - accuracy: 0.8805 - val_loss: 0.1992 - val_accuracy: 0.9397\n",
            "Epoch 5/10\n",
            "111/111 [==============================] - 89s 800ms/step - loss: 0.2927 - accuracy: 0.9068 - val_loss: 0.1335 - val_accuracy: 0.9605\n",
            "Epoch 6/10\n",
            "111/111 [==============================] - 89s 806ms/step - loss: 0.2477 - accuracy: 0.9290 - val_loss: 0.1452 - val_accuracy: 0.9526\n",
            "Epoch 7/10\n",
            "111/111 [==============================] - 89s 804ms/step - loss: 0.2038 - accuracy: 0.9379 - val_loss: 0.1161 - val_accuracy: 0.9696\n",
            "Epoch 8/10\n",
            "111/111 [==============================] - 89s 803ms/step - loss: 0.1711 - accuracy: 0.9497 - val_loss: 0.1489 - val_accuracy: 0.9572\n",
            "Epoch 9/10\n",
            "111/111 [==============================] - 89s 802ms/step - loss: 0.1706 - accuracy: 0.9545 - val_loss: 0.1008 - val_accuracy: 0.9741\n",
            "Epoch 10/10\n",
            "111/111 [==============================] - 89s 802ms/step - loss: 0.1521 - accuracy: 0.9563 - val_loss: 0.1013 - val_accuracy: 0.9718\n"
          ],
          "name": "stdout"
        }
      ]
    },
    {
      "cell_type": "code",
      "metadata": {
        "colab": {
          "base_uri": "https://localhost:8080/",
          "height": 350
        },
        "id": "yKNeRXisGVdZ",
        "outputId": "9d271050-b678-49d8-97df-14b868c41b5a"
      },
      "source": [
        "print(\"multi class test\",np.around(np.array(results3.history[\"accuracy\"]), 2))\n",
        "print(\"multi class val\",np.around(np.array(results3.history[\"val_accuracy\"]), 2))\n",
        "print(\"multi label test\",np.around(np.array(results2.history[\"accuracy\"]), 2))\n",
        "print(\"multi label val\",np.around(np.array(results2.history[\"val_accuracy\"]), 2))\n",
        "plt.plot(results3.history[\"accuracy\"])\n",
        "plt.plot(results3.history[\"val_accuracy\"])\n",
        "plt.plot(results2.history[\"accuracy\"])\n",
        "plt.plot(results2.history[\"val_accuracy\"])\n",
        "plt.legend(labels=[\"train1\", \"val1\",\"train1\", \"val2\"])"
      ],
      "execution_count": 241,
      "outputs": [
        {
          "output_type": "stream",
          "text": [
            "multi class test [0.35 0.71 0.83 0.88 0.91 0.93 0.94 0.95 0.95 0.96]\n",
            "multi class val [0.71 0.85 0.91 0.94 0.96 0.95 0.97 0.96 0.97 0.97]\n",
            "multi label test [0.11 0.4  0.63 0.71 0.73 0.76 0.77 0.78 0.79 0.8 ]\n",
            "multi label val [0.22 0.6  0.72 0.77 0.78 0.79 0.8  0.8  0.8  0.81]\n"
          ],
          "name": "stdout"
        },
        {
          "output_type": "execute_result",
          "data": {
            "text/plain": [
              "<matplotlib.legend.Legend at 0x7ff927c20da0>"
            ]
          },
          "metadata": {
            "tags": []
          },
          "execution_count": 241
        },
        {
          "output_type": "display_data",
          "data": {
            "image/png": "[encoded data removed]",
            "text/plain": [
              "<Figure size 432x288 with 1 Axes>"
            ]
          },
          "metadata": {
            "tags": [],
            "needs_background": "light"
          }
        }
      ]
    },
    {
      "cell_type": "code",
      "metadata": {
        "colab": {
          "base_uri": "https://localhost:8080/",
          "height": 282
        },
        "id": "SksJsHSUX3i_",
        "outputId": "739f68a6-e1d1-4e2d-e31c-ae2aa2b07ed4"
      },
      "source": [
        "# subcate \n",
        "plt.plot(results2.history[\"accuracy\"])\n",
        "plt.plot(results2.history[\"val_accuracy\"])\n",
        "plt.legend(labels=[\"train\", \"val\"])"
      ],
      "execution_count": 62,
      "outputs": [
        {
          "output_type": "execute_result",
          "data": {
            "text/plain": [
              "<matplotlib.legend.Legend at 0x7ff928a7ca58>"
            ]
          },
          "metadata": {
            "tags": []
          },
          "execution_count": 62
        },
        {
          "output_type": "display_data",
          "data": {
            "image/png": "[encoded data removed]",
            "text/plain": [
              "<Figure size 432x288 with 1 Axes>"
            ]
          },
          "metadata": {
            "tags": [],
            "needs_background": "light"
          }
        }
      ]
    },
    {
      "cell_type": "code",
      "metadata": {
        "colab": {
          "base_uri": "https://localhost:8080/",
          "height": 283
        },
        "id": "yx0XPxZa8Y9J",
        "outputId": "01ec1beb-8bb0-47df-b118-c0338fb60bc7"
      },
      "source": [
        "# subcategory\n",
        "plt.plot(results3.history[\"accuracy\"])\n",
        "plt.plot(results3.history[\"val_accuracy\"])\n",
        "plt.legend(labels=[\"train\", \"val\"])"
      ],
      "execution_count": 98,
      "outputs": [
        {
          "output_type": "execute_result",
          "data": {
            "text/plain": [
              "<matplotlib.legend.Legend at 0x7ff9262245c0>"
            ]
          },
          "metadata": {
            "tags": []
          },
          "execution_count": 98
        },
        {
          "output_type": "display_data",
          "data": {
            "image/png": "[encoded data removed]",
            "text/plain": [
              "<Figure size 432x288 with 1 Axes>"
            ]
          },
          "metadata": {
            "tags": [],
            "needs_background": "light"
          }
        }
      ]
    },
    {
      "cell_type": "code",
      "metadata": {
        "colab": {
          "base_uri": "https://localhost:8080/",
          "height": 282
        },
        "id": "JQsuVRxCQmax",
        "outputId": "383430ea-f9fd-410d-e4c4-22e72eace6dc"
      },
      "source": [
        "# save the image!!! don't run this plot\n",
        "plt.plot(results1.history[\"accuracy\"])\n",
        "plt.plot(results1.history[\"val_accuracy\"])\n",
        "plt.legend(labels=[\"train\", \"val\"])\n"
      ],
      "execution_count": null,
      "outputs": [
        {
          "output_type": "execute_result",
          "data": {
            "text/plain": [
              "<matplotlib.legend.Legend at 0x7f43f4b79470>"
            ]
          },
          "metadata": {
            "tags": []
          },
          "execution_count": 254
        },
        {
          "output_type": "display_data",
          "data": {
            "image/png": "[encoded data removed]",
            "text/plain": [
              "<Figure size 432x288 with 1 Axes>"
            ]
          },
          "metadata": {
            "tags": [],
            "needs_background": "light"
          }
        }
      ]
    },
    {
      "cell_type": "markdown",
      "metadata": {
        "id": "v3QiBGbFQixg"
      },
      "source": [
        "# end "
      ]
    },
    {
      "cell_type": "markdown",
      "metadata": {
        "id": "DjIStnMcOaj2"
      },
      "source": [
        "\n",
        "method \n",
        "2 classification\n",
        "CNN model is a type of Neural Networks, which proved wildly effective, that mainly be used in image recognition and classification field. Our project applied 3 different classifiers based on CNN models: \n",
        "1. Multi-Class Single-Labels CNN. A classification task work with one column that includes more than 2 categorical variables. We selected ReLU as the activation function for Cov layers and Softmax as the last layer of the model. For example, in 'gender' column which containing:['Girls', 'Boys,' 'Men', 'Unisex', 'Women'], the unisex will be marked as [0,0,0,1,0]\n",
        "2. Binary-Class Multi-Labels CNN. Also, a classification works with multiple binary columns. We set multiple Sigmoid activation functions on the last layer of the model. Mathematically, the output of each category is independent. In contrast, the outputs of a softmax are all interrelated. For example the 'unisex' will be marked as [0,0,1,1] (['Girls', 'Boys,' 'Men',  'Women'])\n",
        "3. Multi-Class, Multi Labels CNN. This classification works with multiple columns that include multiple labels. We considered all the columns here. Thus we transformed our target value to the format of the previous two classify target. 1. One hot encoded all the categorical variables (in total 16 columns) 2. Combined all the columns, assigning to a new categorial column that has 99 different elements.  Then used Sigmoid and Softmax function in the last layer of CNN model respectively. \n",
        "\n",
        "\n",
        "\n",
        "result\n",
        "The following figure shows the accuracy of our classifications by the various classifiers\n",
        "总的来说，很明显\n",
        "\n",
        "discussion:\n",
        "对于分类，我们的目标是为了更精确的得到结果。然而我们的7种不同的分类，每一分类下面有多种不同的labels，换句话来说 就是multi-label and multi class classification。 那么我们面临最大的难题的就是如何处理这些\n"
      ]
    },
    {
      "cell_type": "markdown",
      "metadata": {
        "id": "rxGK8o-M4z76"
      },
      "source": [
        "# 恩达\n"
      ]
    },
    {
      "cell_type": "markdown",
      "metadata": {
        "id": "C9adR8GzyB2k"
      },
      "source": [
        "method\n",
        "2 classification\n",
        "CNN model is a type of Neural Networks, which proved wildly effective, that mainly be used in image recognition and classification field. Our project applied 2 different types of classifier and built several models based on CNN algorithm:\n",
        "1. Multi-Class classifier. A classification works with one set of tags that includes more than 2 categorical variables, each image only be assigned one tag. We selected ReLU as the activation function for Cov layers and Softmax as the last layer of the model .\n",
        "2. Multi-Labels classifier. A classification works with multiple sets of tags. An image can be assigned more than one tag. As the figure shows, an image can be marked as \"Men\" and \"Women\" at the same time to representing unisex. We set multiple Sigmoid activation functions on the last layer of the model. Mathematically, the output of each category is independent. In contrast, the outputs of a softmax are all interrelated.\n",
        "\n",
        "\n",
        "\n",
        "\n",
        "\n",
        "result\n",
        "\n",
        "The following figure shows the accuracy of our classifications by the various classifiers (blue and orange line represent the multi-class model; green and red lines represent the multi-label model)\n",
        "In general, for the single category models, the accuracies of the two type classifiers are similar (except column usage), but when we faced the single model with multiple outputs, the Multi-Class classifier is much more accuracy.\n",
        "\n",
        "\n",
        "discussion:\n",
        "For classification, our goal is to more accurately mark each image with the prepared tag.\n",
        "Our data contains too many categories, and each category includes multiple labels\n",
        " Then the biggest problem we face is how to deal with these handling these classes and labels. From the result table, we can know that if we build multiple cnn models to calculate the classification of each class, the final accuracy rate of all tags is * ****. The accuracy rate is higher than that of building a multi-output model.\n",
        "\n",
        "In addition, Multi-Labels Classfier is extremely susceptible to imbalanced data. For example, the labels of the Usage column, of the 7 labels, three labels account for 98%, and the softmax activate function is very good "
      ]
    },
    {
      "cell_type": "markdown",
      "metadata": {
        "id": "UETTrrirpoe4"
      },
      "source": [
        ""
      ]
    },
    {
      "cell_type": "code",
      "metadata": {
        "id": "FinIcmckppUd"
      },
      "source": [
        "from skimage import io\n",
        "img_id = 51623\n",
        "path = \"myntradataset/images/{}.jpg\".format(img_id)\n",
        "img1 = io.imread(path)\n",
        "io.imshow(img1)"
      ],
      "execution_count": null,
      "outputs": []
    }
  ]
}