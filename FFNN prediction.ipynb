{
 "cells": [
  {
   "cell_type": "code",
   "execution_count": 2,
   "metadata": {},
   "outputs": [],
   "source": [
    "import pandas as pd\n",
    "\n",
    "df = pd.read_csv(\"styles.csv\", usecols = [0,1,2,3,4,5,6,7,8,9])\n",
    "targets = [ \"Shirts\", \"Watches\", \"Sports Shoes\", \"Tops\", \"Handbags\", \"Heels\", \"Sunglasses\", \"Backpacks\", \"Jeans\", \"Shorts\"]\n",
    "df = df[df['articleType'].isin(targets)]\n",
    "\n",
    "large = [\"Shirts\", \"Watches\", \"Sports Shoes\", \"Tops\", \"Handbags\", \"Heels\", \"Sunglasses\"]\n",
    "small = [\"Backpacks\", \"Jeans\", \"Shorts\"]\n",
    "lst = []\n",
    "for t in targets:\n",
    "    temp = df[df['articleType'] == t]\n",
    "    if t in small:\n",
    "        lst.append(temp)\n",
    "    else:\n",
    "        lst.append(temp.sample(n = 1000, random_state = 111))\n",
    "mydf = pd.concat(lst)\n",
    "idlist = map(str, list(mydf.id))"
   ]
  },
  {
   "cell_type": "code",
   "execution_count": 3,
   "metadata": {},
   "outputs": [
    {
     "data": {
      "text/html": [
       "<div>\n",
       "<style scoped>\n",
       "    .dataframe tbody tr th:only-of-type {\n",
       "        vertical-align: middle;\n",
       "    }\n",
       "\n",
       "    .dataframe tbody tr th {\n",
       "        vertical-align: top;\n",
       "    }\n",
       "\n",
       "    .dataframe thead th {\n",
       "        text-align: right;\n",
       "    }\n",
       "</style>\n",
       "<table border=\"1\" class=\"dataframe\">\n",
       "  <thead>\n",
       "    <tr style=\"text-align: right;\">\n",
       "      <th></th>\n",
       "      <th>id</th>\n",
       "      <th>styleType</th>\n",
       "      <th>brandName</th>\n",
       "      <th>ageGroup</th>\n",
       "      <th>gender</th>\n",
       "      <th>baseColour</th>\n",
       "      <th>fashionType</th>\n",
       "      <th>season</th>\n",
       "      <th>usage</th>\n",
       "      <th>isEMIEnabled</th>\n",
       "      <th>...</th>\n",
       "      <th>isTryAndBuyEnabled</th>\n",
       "      <th>isHazmat</th>\n",
       "      <th>isJewellery</th>\n",
       "      <th>isReturnable</th>\n",
       "      <th>isExchangeable</th>\n",
       "      <th>active</th>\n",
       "      <th>socialSharingEnabled</th>\n",
       "      <th>pickupEnabled</th>\n",
       "      <th>isLarge</th>\n",
       "      <th>codEnabled</th>\n",
       "    </tr>\n",
       "  </thead>\n",
       "  <tbody>\n",
       "    <tr>\n",
       "      <th>data</th>\n",
       "      <td>5947</td>\n",
       "      <td>P</td>\n",
       "      <td>LOCOMOTIVE</td>\n",
       "      <td>Adults-Men</td>\n",
       "      <td>Men</td>\n",
       "      <td>Black</td>\n",
       "      <td>Fashion</td>\n",
       "      <td>Summer</td>\n",
       "      <td>Casual</td>\n",
       "      <td>1</td>\n",
       "      <td>...</td>\n",
       "      <td>true</td>\n",
       "      <td>false</td>\n",
       "      <td>false</td>\n",
       "      <td>true</td>\n",
       "      <td>true</td>\n",
       "      <td>true</td>\n",
       "      <td>true</td>\n",
       "      <td>true</td>\n",
       "      <td>false</td>\n",
       "      <td>true</td>\n",
       "    </tr>\n",
       "    <tr>\n",
       "      <th>data</th>\n",
       "      <td>8781</td>\n",
       "      <td>P</td>\n",
       "      <td>Indigo Nation</td>\n",
       "      <td>Adults-Men</td>\n",
       "      <td>Men</td>\n",
       "      <td>Maroon</td>\n",
       "      <td>Fashion</td>\n",
       "      <td>Fall</td>\n",
       "      <td>Casual</td>\n",
       "      <td>1</td>\n",
       "      <td>...</td>\n",
       "      <td>true</td>\n",
       "      <td>false</td>\n",
       "      <td>false</td>\n",
       "      <td>true</td>\n",
       "      <td>true</td>\n",
       "      <td>true</td>\n",
       "      <td>true</td>\n",
       "      <td>true</td>\n",
       "      <td>false</td>\n",
       "      <td>true</td>\n",
       "    </tr>\n",
       "    <tr>\n",
       "      <th>data</th>\n",
       "      <td>8829</td>\n",
       "      <td>DEL</td>\n",
       "      <td>SPYKAR</td>\n",
       "      <td>Adults-Men</td>\n",
       "      <td>Men</td>\n",
       "      <td>White</td>\n",
       "      <td>Fashion</td>\n",
       "      <td>Fall</td>\n",
       "      <td>Casual</td>\n",
       "      <td>1</td>\n",
       "      <td>...</td>\n",
       "      <td>true</td>\n",
       "      <td>false</td>\n",
       "      <td>false</td>\n",
       "      <td>true</td>\n",
       "      <td>true</td>\n",
       "      <td>true</td>\n",
       "      <td>true</td>\n",
       "      <td>true</td>\n",
       "      <td>false</td>\n",
       "      <td>true</td>\n",
       "    </tr>\n",
       "    <tr>\n",
       "      <th>data</th>\n",
       "      <td>17545</td>\n",
       "      <td>P</td>\n",
       "      <td>Mark Taylor</td>\n",
       "      <td>Adults-Men</td>\n",
       "      <td>Men</td>\n",
       "      <td>Brown</td>\n",
       "      <td>Fashion</td>\n",
       "      <td>Fall</td>\n",
       "      <td>Formal</td>\n",
       "      <td>1</td>\n",
       "      <td>...</td>\n",
       "      <td>true</td>\n",
       "      <td>false</td>\n",
       "      <td>false</td>\n",
       "      <td>true</td>\n",
       "      <td>true</td>\n",
       "      <td>true</td>\n",
       "      <td>true</td>\n",
       "      <td>true</td>\n",
       "      <td>false</td>\n",
       "      <td>true</td>\n",
       "    </tr>\n",
       "    <tr>\n",
       "      <th>data</th>\n",
       "      <td>10817</td>\n",
       "      <td>P</td>\n",
       "      <td>Wrangler</td>\n",
       "      <td>Adults-Men</td>\n",
       "      <td>Men</td>\n",
       "      <td>Green</td>\n",
       "      <td>Fashion</td>\n",
       "      <td>Fall</td>\n",
       "      <td>Casual</td>\n",
       "      <td>1</td>\n",
       "      <td>...</td>\n",
       "      <td>true</td>\n",
       "      <td>false</td>\n",
       "      <td>false</td>\n",
       "      <td>true</td>\n",
       "      <td>true</td>\n",
       "      <td>true</td>\n",
       "      <td>true</td>\n",
       "      <td>true</td>\n",
       "      <td>false</td>\n",
       "      <td>true</td>\n",
       "    </tr>\n",
       "  </tbody>\n",
       "</table>\n",
       "<p>5 rows × 24 columns</p>\n",
       "</div>"
      ],
      "text/plain": [
       "         id styleType      brandName    ageGroup gender baseColour  \\\n",
       "data   5947         P     LOCOMOTIVE  Adults-Men    Men      Black   \n",
       "data   8781         P  Indigo Nation  Adults-Men    Men     Maroon   \n",
       "data   8829       DEL         SPYKAR  Adults-Men    Men      White   \n",
       "data  17545         P    Mark Taylor  Adults-Men    Men      Brown   \n",
       "data  10817         P       Wrangler  Adults-Men    Men      Green   \n",
       "\n",
       "     fashionType  season   usage isEMIEnabled  ... isTryAndBuyEnabled  \\\n",
       "data     Fashion  Summer  Casual            1  ...               true   \n",
       "data     Fashion    Fall  Casual            1  ...               true   \n",
       "data     Fashion    Fall  Casual            1  ...               true   \n",
       "data     Fashion    Fall  Formal            1  ...               true   \n",
       "data     Fashion    Fall  Casual            1  ...               true   \n",
       "\n",
       "     isHazmat isJewellery isReturnable isExchangeable active  \\\n",
       "data    false       false         true           true   true   \n",
       "data    false       false         true           true   true   \n",
       "data    false       false         true           true   true   \n",
       "data    false       false         true           true   true   \n",
       "data    false       false         true           true   true   \n",
       "\n",
       "     socialSharingEnabled pickupEnabled isLarge codEnabled  \n",
       "data                 true          true   false       true  \n",
       "data                 true          true   false       true  \n",
       "data                 true          true   false       true  \n",
       "data                 true          true   false       true  \n",
       "data                 true          true   false       true  \n",
       "\n",
       "[5 rows x 24 columns]"
      ]
     },
     "execution_count": 3,
     "metadata": {},
     "output_type": "execute_result"
    }
   ],
   "source": [
    "import json\n",
    "\n",
    "a = pd.DataFrame()\n",
    "\n",
    "for x in idlist:\n",
    "    file = 'styles/' + x +'.json'\n",
    "    with open(file, 'rb') as jsonfile:\n",
    "        json_string = json.load(jsonfile)\n",
    "    \n",
    "    df = pd.read_json(file, encoding=\"utf-8\", orient = 'index')\n",
    "    \n",
    "    df= df[['id', 'styleType', 'brandName', 'ageGroup', 'gender', 'baseColour', 'fashionType', 'season', 'usage',\n",
    "            'isEMIEnabled', 'otherFlags', 'masterCategory', 'subCategory', 'articleType']].iloc[1,:]\n",
    "    \n",
    "    df.masterCategory = df.masterCategory['typeName']\n",
    "    df.subCategory = df.subCategory['typeName']\n",
    "    df.articleType = df.articleType['typeName']\n",
    "    \n",
    "    for y in df.otherFlags:\n",
    "        df[y['name']] = y['value']\n",
    "\n",
    "    df = df.drop('otherFlags')\n",
    "    \n",
    "    df = df.to_frame().transpose()\n",
    "    \n",
    "    a = pd.concat([a, df])\n",
    "    \n",
    "a.head()"
   ]
  },
  {
   "cell_type": "code",
   "execution_count": 4,
   "metadata": {},
   "outputs": [],
   "source": [
    "import matplotlib.pyplot as plt\n",
    "from sklearn.model_selection import train_test_split\n",
    "from sklearn.metrics import accuracy_score, mean_squared_error, log_loss\n",
    "import warnings\n",
    "from sklearn.preprocessing import OrdinalEncoder\n",
    "import torch\n",
    "warnings.filterwarnings('ignore')\n",
    "import torch.nn as nn"
   ]
  },
  {
   "cell_type": "code",
   "execution_count": 5,
   "metadata": {},
   "outputs": [
    {
     "name": "stdout",
     "output_type": "stream",
     "text": [
      "(6660, 17) (2220, 17) (8880,)\n"
     ]
    }
   ],
   "source": [
    "from sklearn.preprocessing import LabelEncoder\n",
    "\n",
    "df = a\n",
    "\n",
    "# to predict isFragile, if you want to predict other features, just change the string\n",
    "data = df.drop(['isFragile', 'id', 'active', 'socialSharingEnabled', 'isLarge', 'codEnabled', 'isEMIEnabled'], axis = 1)\n",
    "labels = df['isFragile']\n",
    "\n",
    "X_train, X_test, y_train, y_test = train_test_split(data, labels, stratify=labels, random_state=0)\n",
    "print(X_train.shape, X_test.shape, labels.shape)\n",
    "\n",
    "oe = OrdinalEncoder()\n",
    "oe.fit(data)\n",
    "X_train_enc = oe.transform(X_train)\n",
    "X_test_enc = oe.transform(X_test)\n",
    "\n",
    "le = LabelEncoder()\n",
    "le.fit(labels)\n",
    "y_train_enc = le.transform(y_train)\n",
    "y_test_enc = le.transform(y_test)"
   ]
  },
  {
   "cell_type": "code",
   "execution_count": 6,
   "metadata": {},
   "outputs": [
    {
     "name": "stdout",
     "output_type": "stream",
     "text": [
      "torch.Size([6660, 17]) torch.Size([6660])\n"
     ]
    }
   ],
   "source": [
    "X_train, y_train, X_test, y_test = map(torch.tensor, (X_train_enc, y_train_enc, X_test_enc, y_test_enc))\n",
    "print(X_train.shape, y_train.shape)"
   ]
  },
  {
   "cell_type": "code",
   "execution_count": 7,
   "metadata": {},
   "outputs": [],
   "source": [
    "import torch.nn as nn\n",
    "\n",
    "class FirstNetwork(nn.Module):\n",
    "    def __init__(self):\n",
    "        super().__init__()\n",
    "        torch.manual_seed(0)\n",
    "        self.lin1 = nn.Linear(17, 8) #automatically defines weights and biases\n",
    "        self.lin2 = nn.Linear(8, 1)\n",
    "    \n",
    "    def forward(self, X):\n",
    "        a1 = self.lin1(X)\n",
    "        h1 = a1.relu()\n",
    "        a2 = self.lin2(h1)\n",
    "        h2 = a2.sigmoid()\n",
    "        return h2"
   ]
  },
  {
   "cell_type": "code",
   "execution_count": 8,
   "metadata": {},
   "outputs": [],
   "source": [
    "model = FirstNetwork()"
   ]
  },
  {
   "cell_type": "code",
   "execution_count": 54,
   "metadata": {
    "scrolled": true
   },
   "outputs": [],
   "source": [
    "epochs = 1000\n",
    "learning_rate = 0.2\n",
    "loss_arr = []\n",
    "\n",
    "criterion = nn.BCELoss()\n",
    "opt = torch.optim.Adam(model.parameters(), lr=learning_rate) \n",
    "\n",
    "for epoch in range(epochs):\n",
    "    opt.zero_grad()\n",
    "    y_hat = model(X_train.float())\n",
    "    loss = criterion(y_hat, y_train.float()) #compute the loss of the network\n",
    "    loss.backward() #backpropagate the gradients\n",
    "    loss_arr.append(loss.item())\n",
    "    opt.step() #updating each parameter."
   ]
  },
  {
   "cell_type": "code",
   "execution_count": 56,
   "metadata": {},
   "outputs": [
    {
     "data": {
      "text/plain": [
       "[<matplotlib.lines.Line2D at 0x164fbf8deb8>]"
      ]
     },
     "execution_count": 56,
     "metadata": {},
     "output_type": "execute_result"
    },
    {
     "data": {
      "image/png": "[encoded data removed]",
      "text/plain": [
       "<Figure size 432x288 with 1 Axes>"
      ]
     },
     "metadata": {
      "needs_background": "light"
     },
     "output_type": "display_data"
    }
   ],
   "source": [
    "plt.plot(loss_arr)"
   ]
  },
  {
   "cell_type": "code",
   "execution_count": 63,
   "metadata": {},
   "outputs": [
    {
     "name": "stdout",
     "output_type": "stream",
     "text": [
      "Accuracy of the network on the test data: 88 %\n"
     ]
    }
   ],
   "source": [
    "correct = 0\n",
    "total = 0\n",
    "with torch.no_grad():\n",
    "    outputs = model(X_test.float())\n",
    "    _, predicted = torch.max(outputs.data, 1)\n",
    "    total += y_test.size(0)\n",
    "    correct += (predicted == y_test).sum().item()\n",
    "\n",
    "print('Accuracy of the network on the test data: %d %%' % (\n",
    "    100 * correct / total))"
   ]
  }
 ],
 "metadata": {
  "kernelspec": {
   "display_name": "Python 3",
   "language": "python",
   "name": "python3"
  },
  "language_info": {
   "codemirror_mode": {
    "name": "ipython",
    "version": 3
   },
   "file_extension": ".py",
   "mimetype": "text/x-python",
   "name": "python",
   "nbconvert_exporter": "python",
   "pygments_lexer": "ipython3",
   "version": "3.7.1"
  }
 },
 "nbformat": 4,
 "nbformat_minor": 2
}
